{
 "cells": [
  {
   "cell_type": "code",
   "execution_count": 1,
   "id": "848ae494",
   "metadata": {},
   "outputs": [],
   "source": [
    "import sqlite3\n",
    "import pandas as pd\n",
    "\n",
    "class Employee:\n",
    "    \n",
    "    def __init__(self, first, last, pay):\n",
    "        self.first = first\n",
    "        self.last = last\n",
    "        self.pay = pay\n",
    "        \n",
    "    @property\n",
    "    def fullname(self):\n",
    "        return f\"{first} {last}\"\n",
    "    \n",
    "    @property\n",
    "    def email(self):\n",
    "        return f\"{first}@mail.com\""
   ]
  },
  {
   "cell_type": "code",
   "execution_count": 2,
   "id": "694a5a4e",
   "metadata": {},
   "outputs": [],
   "source": [
    "conn = sqlite3.connect(\"meet09.db\")\n",
    "c = conn.cursor()\n",
    "\n",
    "c.execute(\"\"\"\n",
    "    CREATE TABLE IF NOT EXISTS employees (\n",
    "        id INTEGER PRIMARY KEY AUTOINCREMENT,\n",
    "        first TEXT,\n",
    "        last TEXT,\n",
    "        pay INTEGER\n",
    "    );\n",
    "\n",
    "\"\"\")\n",
    "\n",
    "conn.commit()"
   ]
  },
  {
   "cell_type": "code",
   "execution_count": 4,
   "id": "8c62d5c3",
   "metadata": {},
   "outputs": [],
   "source": [
    "emp = Employee(\"John\", \"Doe\", 10000)\n",
    "c.execute(\"\"\"\n",
    "    INSERT INTO employees (first, last, pay) VALUES (? , ? , ?) \n",
    "\"\"\", (emp.first, emp.last, emp.pay))\n",
    "\n",
    "conn.commit()"
   ]
  },
  {
   "cell_type": "code",
   "execution_count": 5,
   "id": "401fceb5",
   "metadata": {},
   "outputs": [],
   "source": [
    "emp_2 = Employee(\"Jane\", \"Doe\", 20000)\n",
    "c.execute(\"\"\"\n",
    "    INSERT INTO employees (first, last, pay) VALUES (? , ? , ?)\n",
    "\"\"\", (emp_2.first, emp_2.last, emp_2.pay))\n",
    "conn.commit()"
   ]
  },
  {
   "cell_type": "code",
   "execution_count": 8,
   "id": "73714a25",
   "metadata": {},
   "outputs": [],
   "source": [
    "def insert_emp(emp):\n",
    "    with conn:\n",
    "        try:\n",
    "            c.execute(\"\"\"\n",
    "                INSERT INTO employees (first, last, pay) VALUES (?, ?, ?)\n",
    "            \"\"\", (emp.first, emp.last, emp.pay))\n",
    "        except:\n",
    "            return False\n",
    "        else:\n",
    "            return True"
   ]
  },
  {
   "cell_type": "code",
   "execution_count": 9,
   "id": "0ca689d5",
   "metadata": {},
   "outputs": [
    {
     "data": {
      "text/plain": [
       "True"
      ]
     },
     "execution_count": 9,
     "metadata": {},
     "output_type": "execute_result"
    }
   ],
   "source": [
    "emp = Employee(\"Steve\", \"Good\", 3000)\n",
    "insert_emp(emp)"
   ]
  },
  {
   "cell_type": "code",
   "execution_count": 10,
   "id": "bf169f56",
   "metadata": {},
   "outputs": [
    {
     "data": {
      "text/plain": [
       "True"
      ]
     },
     "execution_count": 10,
     "metadata": {},
     "output_type": "execute_result"
    }
   ],
   "source": [
    "emp = Employee(\"Patrick\", \"Star\", 5000)\n",
    "insert_emp(emp)"
   ]
  },
  {
   "cell_type": "code",
   "execution_count": 11,
   "id": "c462c9a3",
   "metadata": {},
   "outputs": [],
   "source": [
    "def get_all_emps():\n",
    "    try:\n",
    "        c.execute(\"\"\"\n",
    "            SELECT * FROM employees;\n",
    "        \"\"\")\n",
    "    except:\n",
    "        return False\n",
    "    else:\n",
    "        return c.fetchall()"
   ]
  },
  {
   "cell_type": "code",
   "execution_count": 14,
   "id": "b758be60",
   "metadata": {},
   "outputs": [
    {
     "name": "stdout",
     "output_type": "stream",
     "text": [
      "   id    first  last    pay\n",
      "0   1     John   Doe  10000\n",
      "1   2     Jane   Doe  20000\n",
      "2   3    Steve  Good   3000\n",
      "3   4  Patrick  Star   5000\n"
     ]
    }
   ],
   "source": [
    "emps = get_all_emps()\n",
    "# print(emps)\n",
    "emp_df = pd.DataFrame(emps)\n",
    "emp_df.columns = [\"id\", \"first\", \"last\", \"pay\"]\n",
    "print(emp_df)"
   ]
  },
  {
   "cell_type": "code",
   "execution_count": 15,
   "id": "c29c2cfc",
   "metadata": {},
   "outputs": [],
   "source": [
    "def get_emp_by_last(last):\n",
    "    try:\n",
    "        c.execute(\"\"\"\n",
    "            SELECT * FROM employees WHERE last = ?\n",
    "        \"\"\", (last, ))\n",
    "    except:\n",
    "        return False\n",
    "    else:\n",
    "        return c.fetchone()"
   ]
  },
  {
   "cell_type": "code",
   "execution_count": 16,
   "id": "c5d4ec69",
   "metadata": {},
   "outputs": [
    {
     "name": "stdout",
     "output_type": "stream",
     "text": [
      "(4, 'Patrick', 'Star', 5000)\n"
     ]
    }
   ],
   "source": [
    "emp = get_emp_by_last(\"Star\")\n",
    "print(emp)"
   ]
  }
 ],
 "metadata": {
  "kernelspec": {
   "display_name": "Python 3 (ipykernel)",
   "language": "python",
   "name": "python3"
  },
  "language_info": {
   "codemirror_mode": {
    "name": "ipython",
    "version": 3
   },
   "file_extension": ".py",
   "mimetype": "text/x-python",
   "name": "python",
   "nbconvert_exporter": "python",
   "pygments_lexer": "ipython3",
   "version": "3.11.4"
  }
 },
 "nbformat": 4,
 "nbformat_minor": 5
}
