{
 "cells": [
  {
   "cell_type": "markdown",
   "id": "a9f77076",
   "metadata": {},
   "source": [
    "# Introduction Basic Python"
   ]
  },
  {
   "cell_type": "code",
   "execution_count": 1,
   "id": "5902f197",
   "metadata": {},
   "outputs": [
    {
     "name": "stdout",
     "output_type": "stream",
     "text": [
      "Hello, world!\n"
     ]
    }
   ],
   "source": [
    "print(\"Hello, world!\")"
   ]
  },
  {
   "cell_type": "markdown",
   "id": "e4463c1f",
   "metadata": {},
   "source": [
    "Sumber belajar bisa diakses di \n",
    "https://en.wikibooks.org/wiki/Non-Programmer%27s_Tutorial_for_Python_3/  😬"
   ]
  },
  {
   "cell_type": "code",
   "execution_count": 2,
   "id": "4bb64392",
   "metadata": {},
   "outputs": [
    {
     "name": "stdout",
     "output_type": "stream",
     "text": [
      "4\n",
      "6\n",
      "5\n",
      "2.0\n",
      "3.3333333333333335\n",
      "3\n",
      "1\n"
     ]
    }
   ],
   "source": [
    "print(2 + 2)\n",
    "print(2 * 3)\n",
    "print(10 - 5)\n",
    "print(12 / 6)\n",
    "print(10 / 3)\n",
    "print(10 // 3)\n",
    "print(10 % 3)"
   ]
  },
  {
   "cell_type": "markdown",
   "id": "64794dbe",
   "metadata": {},
   "source": [
    "## Variable di python"
   ]
  },
  {
   "cell_type": "code",
   "execution_count": 3,
   "id": "03874b83",
   "metadata": {},
   "outputs": [
    {
     "name": "stdout",
     "output_type": "stream",
     "text": [
      "Anas Azhar 30 170.5\n"
     ]
    }
   ],
   "source": [
    "nama = \"Anas Azhar\"\n",
    "usia = 30\n",
    "tinggi = 170.5\n",
    "\n",
    "print(nama, usia, tinggi)"
   ]
  },
  {
   "cell_type": "code",
   "execution_count": null,
   "id": "5de3b333",
   "metadata": {},
   "outputs": [],
   "source": []
  }
 ],
 "metadata": {
  "kernelspec": {
   "display_name": "Python 3 (ipykernel)",
   "language": "python",
   "name": "python3"
  },
  "language_info": {
   "codemirror_mode": {
    "name": "ipython",
    "version": 3
   },
   "file_extension": ".py",
   "mimetype": "text/x-python",
   "name": "python",
   "nbconvert_exporter": "python",
   "pygments_lexer": "ipython3",
   "version": "3.10.6"
  }
 },
 "nbformat": 4,
 "nbformat_minor": 5
}
