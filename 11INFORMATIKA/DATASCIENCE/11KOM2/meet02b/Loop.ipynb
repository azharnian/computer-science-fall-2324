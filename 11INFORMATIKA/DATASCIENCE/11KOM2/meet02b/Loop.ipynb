{
 "cells": [
  {
   "cell_type": "markdown",
   "id": "35433a1d",
   "metadata": {},
   "source": [
    "# Looping : While"
   ]
  },
  {
   "cell_type": "code",
   "execution_count": 1,
   "id": "691d3b02",
   "metadata": {},
   "outputs": [
    {
     "name": "stdout",
     "output_type": "stream",
     "text": [
      "Input your number : 10\n",
      "Input your number : 0\n",
      "Sum = 10\n"
     ]
    }
   ],
   "source": [
    "number = int(input(\"Input your number : \"))\n",
    "sum = 0\n",
    "while number != 0:\n",
    "    sum += number\n",
    "    number = int(input(\"Input your number : \"))\n",
    "print(\"Sum =\", sum)"
   ]
  },
  {
   "cell_type": "code",
   "execution_count": 3,
   "id": "152048a5",
   "metadata": {},
   "outputs": [
    {
     "name": "stdout",
     "output_type": "stream",
     "text": [
      "10 is not 0\n"
     ]
    }
   ],
   "source": [
    "a = 10\n",
    "if a is not None:\n",
    "    print(a, \"is not 0\")"
   ]
  },
  {
   "cell_type": "code",
   "execution_count": 4,
   "id": "cf9444a4",
   "metadata": {},
   "outputs": [
    {
     "name": "stdout",
     "output_type": "stream",
     "text": [
      "1 2 3 4 5 6 7 8 9 10 "
     ]
    }
   ],
   "source": [
    "a = 1\n",
    "while a <= 10:\n",
    "    print(a, end=\" \")\n",
    "    a += 1"
   ]
  },
  {
   "cell_type": "markdown",
   "id": "817eadbf",
   "metadata": {},
   "source": [
    "# Decisions (if / if else / if elif .. else)"
   ]
  },
  {
   "cell_type": "code",
   "execution_count": 6,
   "id": "7f1d57ce",
   "metadata": {},
   "outputs": [
    {
     "name": "stdout",
     "output_type": "stream",
     "text": [
      "Input your number : 3\n",
      "The absolute number of 3 is 3\n"
     ]
    }
   ],
   "source": [
    "number = int(input(\"Input your number : \"))\n",
    "if number < 0:\n",
    "    print(\"The absolute number of\", number, \"is\", -number)\n",
    "else:\n",
    "    print(\"The absolute number of\", number, \"is\", number)"
   ]
  },
  {
   "cell_type": "code",
   "execution_count": 7,
   "id": "5b00a43d",
   "metadata": {},
   "outputs": [
    {
     "name": "stdout",
     "output_type": "stream",
     "text": [
      "100\n"
     ]
    }
   ],
   "source": [
    "print(abs(-100))"
   ]
  },
  {
   "cell_type": "code",
   "execution_count": 8,
   "id": "2d726aa6",
   "metadata": {},
   "outputs": [
    {
     "name": "stdout",
     "output_type": "stream",
     "text": [
      "Input your number : 0\n",
      "Zero\n"
     ]
    }
   ],
   "source": [
    "number = int(input(\"Input your number : \"))\n",
    "if number < 0:\n",
    "    print(\"Negative\")\n",
    "elif number > 0:\n",
    "    print(\"Positive\")\n",
    "else:\n",
    "    print(\"Zero\")"
   ]
  },
  {
   "cell_type": "markdown",
   "id": "f52b34ac",
   "metadata": {},
   "source": [
    "## debuging syntax"
   ]
  },
  {
   "cell_type": "code",
   "execution_count": 12,
   "id": "36af0cce",
   "metadata": {},
   "outputs": [
    {
     "name": "stdout",
     "output_type": "stream",
     "text": [
      "Hello, world!\n"
     ]
    }
   ],
   "source": [
    "print(\"Hello, world!\")\n",
    "# print(100/0)"
   ]
  },
  {
   "cell_type": "code",
   "execution_count": 14,
   "id": "aea75eeb",
   "metadata": {},
   "outputs": [
    {
     "name": "stdout",
     "output_type": "stream",
     "text": [
      "Input your number : 10\n",
      "Positive\n"
     ]
    }
   ],
   "source": [
    "    \n",
    "def is_negative_positive_zero(n):\n",
    "    if n < 0:\n",
    "        print(\"Negative\")\n",
    "    elif n > 0:\n",
    "        print(\"Positive\")\n",
    "    else:\n",
    "        print(\"Zero\")\n",
    "\n",
    "number = int(input(\"Input your number : \"))\n",
    "is_negative_positive_zero(number)"
   ]
  },
  {
   "cell_type": "code",
   "execution_count": 16,
   "id": "9d3d8780",
   "metadata": {},
   "outputs": [
    {
     "name": "stdout",
     "output_type": "stream",
     "text": [
      "Input your number : 10\n",
      "Positive\n"
     ]
    }
   ],
   "source": [
    "# function without side effect (pure function)\n",
    "def is_negative_positive_zero(n):\n",
    "    if n < 0:\n",
    "        return \"Negative\"\n",
    "    elif n > 0:\n",
    "        return \"Positive\"\n",
    "    else:\n",
    "        return \"Zero\"\n",
    "\n",
    "number = int(input(\"Input your number : \"))\n",
    "print(is_negative_positive_zero(number))"
   ]
  },
  {
   "cell_type": "markdown",
   "id": "d2f0ab71",
   "metadata": {},
   "source": [
    "# Lists"
   ]
  },
  {
   "cell_type": "code",
   "execution_count": 17,
   "id": "07b76257",
   "metadata": {},
   "outputs": [],
   "source": [
    "numbers = [10, 20, 30, 40, 50]\n",
    "names = [\"andi\", \"budi\", \"cindy\", \"dodi\"]\n",
    "items = [\"oke\", True, 200, 3.14159]"
   ]
  },
  {
   "cell_type": "code",
   "execution_count": 18,
   "id": "0ee6f46d",
   "metadata": {},
   "outputs": [
    {
     "name": "stdout",
     "output_type": "stream",
     "text": [
      "['toyota', 'honda', 'suzuki']\n"
     ]
    }
   ],
   "source": [
    "cars = [\"toyota\", \"honda\"]\n",
    "#menambah data\n",
    "cars.append(\"suzuki\")\n",
    "print(cars)"
   ]
  },
  {
   "cell_type": "code",
   "execution_count": 19,
   "id": "7d2c90ed",
   "metadata": {},
   "outputs": [
    {
     "name": "stdout",
     "output_type": "stream",
     "text": [
      "['toyota', 'honda']\n"
     ]
    }
   ],
   "source": [
    "# menghapus item di lists\n",
    "del cars[2]\n",
    "print(cars)"
   ]
  },
  {
   "cell_type": "code",
   "execution_count": 20,
   "id": "c03a60de",
   "metadata": {},
   "outputs": [
    {
     "name": "stdout",
     "output_type": "stream",
     "text": [
      "['toyota']\n"
     ]
    }
   ],
   "source": [
    "cars.pop()\n",
    "print(cars)"
   ]
  },
  {
   "cell_type": "code",
   "execution_count": 21,
   "id": "c3876362",
   "metadata": {},
   "outputs": [
    {
     "name": "stdout",
     "output_type": "stream",
     "text": [
      "[]\n"
     ]
    }
   ],
   "source": [
    "cars.remove(\"toyota\")\n",
    "print(cars)"
   ]
  },
  {
   "cell_type": "code",
   "execution_count": 22,
   "id": "747eba40",
   "metadata": {},
   "outputs": [
    {
     "name": "stdout",
     "output_type": "stream",
     "text": [
      "['hyundai']\n"
     ]
    }
   ],
   "source": [
    "cars.append(\"hyundai\")\n",
    "print(cars)"
   ]
  },
  {
   "cell_type": "code",
   "execution_count": 23,
   "id": "4e9339cd",
   "metadata": {},
   "outputs": [
    {
     "name": "stdout",
     "output_type": "stream",
     "text": [
      "['kia']\n"
     ]
    }
   ],
   "source": [
    "cars[0] = \"kia\"\n",
    "print(cars)"
   ]
  },
  {
   "cell_type": "code",
   "execution_count": 25,
   "id": "1faa915b",
   "metadata": {},
   "outputs": [],
   "source": [
    "gender = (\"male\", \"female\")\n",
    "# gender.append(\"non-binary\")"
   ]
  },
  {
   "cell_type": "code",
   "execution_count": 30,
   "id": "6a1db3d8",
   "metadata": {},
   "outputs": [
    {
     "name": "stdout",
     "output_type": "stream",
     "text": [
      "{1, 2, 3, 4, 5}\n"
     ]
    }
   ],
   "source": [
    "my_sets = {1, 2, 3, 4, 5}\n",
    "my_sets.add(5)\n",
    "print(my_sets)"
   ]
  },
  {
   "cell_type": "markdown",
   "id": "0a5e2dae",
   "metadata": {},
   "source": [
    "# For Loop"
   ]
  },
  {
   "cell_type": "code",
   "execution_count": 32,
   "id": "f15dffa9",
   "metadata": {},
   "outputs": [
    {
     "name": "stdout",
     "output_type": "stream",
     "text": [
      "1 2 3 4 5 "
     ]
    }
   ],
   "source": [
    "numbers = [1, 2, 3, 4, 5]\n",
    "for _ in numbers:\n",
    "    print(_, end=\" \")"
   ]
  },
  {
   "cell_type": "code",
   "execution_count": 34,
   "id": "d1ac90dc",
   "metadata": {},
   "outputs": [
    {
     "name": "stdout",
     "output_type": "stream",
     "text": [
      "[0, 1, 2, 3, 4, 5, 6, 7, 8, 9, 10]\n"
     ]
    }
   ],
   "source": [
    "print(list(range(0, 11)))"
   ]
  },
  {
   "cell_type": "code",
   "execution_count": 36,
   "id": "bbb5074d",
   "metadata": {},
   "outputs": [
    {
     "name": "stdout",
     "output_type": "stream",
     "text": [
      "0 1 2 3 4 5 6 7 8 9 10 "
     ]
    }
   ],
   "source": [
    "for number in range(0, 11):\n",
    "    print(number, end=\" \")"
   ]
  },
  {
   "cell_type": "code",
   "execution_count": 38,
   "id": "df7a242b",
   "metadata": {},
   "outputs": [
    {
     "name": "stdout",
     "output_type": "stream",
     "text": [
      "['bri', 'btn', 'bca']\n",
      "['bri', 'btn', 'bca', 'kredivo']\n"
     ]
    }
   ],
   "source": [
    "banks = [\"bri\", \"btn\", \"bca\"]\n",
    "copy_banks = banks[:]\n",
    "copy_banks.append(\"kredivo\")\n",
    "print(banks)\n",
    "print(copy_banks)"
   ]
  },
  {
   "cell_type": "code",
   "execution_count": null,
   "id": "bedb8c97",
   "metadata": {},
   "outputs": [],
   "source": []
  }
 ],
 "metadata": {
  "kernelspec": {
   "display_name": "Python 3 (ipykernel)",
   "language": "python",
   "name": "python3"
  },
  "language_info": {
   "codemirror_mode": {
    "name": "ipython",
    "version": 3
   },
   "file_extension": ".py",
   "mimetype": "text/x-python",
   "name": "python",
   "nbconvert_exporter": "python",
   "pygments_lexer": "ipython3",
   "version": "3.10.6"
  }
 },
 "nbformat": 4,
 "nbformat_minor": 5
}
