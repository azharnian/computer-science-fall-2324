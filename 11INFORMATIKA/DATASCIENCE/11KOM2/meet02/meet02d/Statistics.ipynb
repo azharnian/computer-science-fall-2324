{
 "cells": [
  {
   "cell_type": "markdown",
   "id": "d253fb98",
   "metadata": {},
   "source": [
    "# Menggunakan Library Statistics"
   ]
  },
  {
   "cell_type": "code",
   "execution_count": 4,
   "id": "78d8c831",
   "metadata": {},
   "outputs": [
    {
     "name": "stdout",
     "output_type": "stream",
     "text": [
      "Mean : 31.43\n",
      "Median : 30.00\n",
      "Mode 30\n",
      "Multimode [30, 40]\n"
     ]
    }
   ],
   "source": [
    "from statistics import mean, median, mode, multimode\n",
    "\n",
    "numbers = [10, 20, 30, 30, 40, 40, 50]\n",
    "\n",
    "print(f\"Mean : {mean(numbers):.2f}\")\n",
    "print(f\"Median : {median(numbers):.2f}\")\n",
    "print(\"Mode\", mode(numbers))\n",
    "print(\"Multimode\", multimode(numbers))\n",
    "\n"
   ]
  },
  {
   "cell_type": "markdown",
   "id": "b0f1309c",
   "metadata": {},
   "source": [
    "# Exception"
   ]
  },
  {
   "cell_type": "code",
   "execution_count": 8,
   "id": "63762ade",
   "metadata": {},
   "outputs": [
    {
     "name": "stdout",
     "output_type": "stream",
     "text": [
      "input your number : anas\n",
      "Please input a number not string.\n"
     ]
    }
   ],
   "source": [
    "try:\n",
    "    number = int(input(\"input your number : \"))\n",
    "except ValueError:\n",
    "    print(\"Please input a number not string.\")\n",
    "else:\n",
    "    print(\"Your number is\", number)"
   ]
  },
  {
   "cell_type": "code",
   "execution_count": 18,
   "id": "2f05c636",
   "metadata": {},
   "outputs": [
    {
     "name": "stdout",
     "output_type": "stream",
     "text": [
      "input your first number : 2\n",
      "input your second number : 4\n",
      "0.5\n",
      "done.\n"
     ]
    }
   ],
   "source": [
    "try :\n",
    "    a = int(input(\"input your first number : \"))\n",
    "    b = int(input(\"input your second number : \"))\n",
    "    result = a / b\n",
    "except ZeroDivisionError:\n",
    "    print(\"Ga boleh dibagi dengan nol.\")\n",
    "except ValueError:\n",
    "    print(\"Ga boleh memasukkan teks hanya angka.\")\n",
    "except:\n",
    "    print(\"Error!\")\n",
    "else :\n",
    "    print(result)\n",
    "finally :\n",
    "    print(\"done.\")"
   ]
  },
  {
   "cell_type": "code",
   "execution_count": null,
   "id": "bc4d198e",
   "metadata": {},
   "outputs": [],
   "source": []
  },
  {
   "cell_type": "code",
   "execution_count": null,
   "id": "0d760eef",
   "metadata": {},
   "outputs": [],
   "source": []
  }
 ],
 "metadata": {
  "kernelspec": {
   "display_name": "Python 3 (ipykernel)",
   "language": "python",
   "name": "python3"
  },
  "language_info": {
   "codemirror_mode": {
    "name": "ipython",
    "version": 3
   },
   "file_extension": ".py",
   "mimetype": "text/x-python",
   "name": "python",
   "nbconvert_exporter": "python",
   "pygments_lexer": "ipython3",
   "version": "3.8.10"
  }
 },
 "nbformat": 4,
 "nbformat_minor": 5
}
