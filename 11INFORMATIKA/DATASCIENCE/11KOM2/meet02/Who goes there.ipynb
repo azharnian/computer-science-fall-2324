{
 "cells": [
  {
   "cell_type": "markdown",
   "id": "34190151",
   "metadata": {},
   "source": [
    "# interactive input and variable\n",
    "contoh penggunaan syntax print dan variable di python"
   ]
  },
  {
   "cell_type": "code",
   "execution_count": 1,
   "id": "ae507795",
   "metadata": {},
   "outputs": [
    {
     "name": "stdout",
     "output_type": "stream",
     "text": [
      "Halt!\n",
      "Who goes there? Albert\n",
      "You may pass Albert\n"
     ]
    }
   ],
   "source": [
    "print(\"Halt!\")\n",
    "user_input = input(\"Who goes there? \")\n",
    "print(\"You may pass\", user_input)"
   ]
  },
  {
   "cell_type": "code",
   "execution_count": 3,
   "id": "6ee2f798",
   "metadata": {},
   "outputs": [
    {
     "name": "stdout",
     "output_type": "stream",
     "text": [
      "a + b is 555.4\n",
      "first_name is Bill\n",
      "Sorted Parts, After Midnight or Spam\n",
      "Albert said \"Time is money\"\n"
     ]
    }
   ],
   "source": [
    "a = 123.4\n",
    "b23 = 'Spam'\n",
    "first_name = \"Bill\"\n",
    "b = 432\n",
    "c = a + b\n",
    "print(\"a + b is\",c)\n",
    "print(\"first_name is\",first_name)\n",
    "print(\"Sorted Parts, After Midnight or\",b23)\n",
    "msg = 'Albert said \"Time is money\"'\n",
    "print(msg)"
   ]
  },
  {
   "cell_type": "markdown",
   "id": "b203b85b",
   "metadata": {},
   "source": [
    "Contoh program mencari waktu tempuh"
   ]
  },
  {
   "cell_type": "code",
   "execution_count": null,
   "id": "3b3a109a",
   "metadata": {},
   "outputs": [],
   "source": [
    "# This program calculates rate and distance problems\n",
    "print(\"Input a rate and a distance\")\n",
    "rate = float(input(\"Rate: \"))\n",
    "distance = float(input(\"Distance: \"))\n",
    "time=(distance/ rate)\n",
    "print(\"Time:\", time)"
   ]
  }
 ],
 "metadata": {
  "kernelspec": {
   "display_name": "Python 3 (ipykernel)",
   "language": "python",
   "name": "python3"
  },
  "language_info": {
   "codemirror_mode": {
    "name": "ipython",
    "version": 3
   },
   "file_extension": ".py",
   "mimetype": "text/x-python",
   "name": "python",
   "nbconvert_exporter": "python",
   "pygments_lexer": "ipython3",
   "version": "3.10.6"
  }
 },
 "nbformat": 4,
 "nbformat_minor": 5
}
