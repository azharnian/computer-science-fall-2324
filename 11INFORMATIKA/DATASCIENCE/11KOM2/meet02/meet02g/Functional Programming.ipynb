{
 "cells": [
  {
   "cell_type": "markdown",
   "id": "876574cc",
   "metadata": {},
   "source": [
    "# List & Filter"
   ]
  },
  {
   "cell_type": "code",
   "execution_count": 11,
   "id": "f1a195d1",
   "metadata": {},
   "outputs": [
    {
     "name": "stdout",
     "output_type": "stream",
     "text": [
      "[23, 29, 41, 43, 47, 61, 67, 83, 89]\n"
     ]
    }
   ],
   "source": [
    "from math import sqrt\n",
    "def is_prime(n):\n",
    "    if n < 2:\n",
    "        return False\n",
    "    for i in range(2, int(sqrt(n))+1):\n",
    "        if n % i == 0:\n",
    "            return False\n",
    "    return True\n",
    "\n",
    "def is_even_tenth(n):\n",
    "    if n < 10:\n",
    "        return False\n",
    "    if int(str(n)[-2]) % 2 == 0:\n",
    "        return True\n",
    "    return False\n",
    "\n",
    "numbers = list(range(0, 101))\n",
    "prime_numbers = list(filter(is_prime, numbers))\n",
    "print(list(filter(is_even_tenth, prime_numbers)))\n",
    "\n"
   ]
  },
  {
   "cell_type": "markdown",
   "id": "d9a46e6c",
   "metadata": {},
   "source": [
    "# Map"
   ]
  },
  {
   "cell_type": "code",
   "execution_count": 15,
   "id": "65d21f7f",
   "metadata": {},
   "outputs": [
    {
     "name": "stdout",
     "output_type": "stream",
     "text": [
      "[5, 10, 15, 20, 25, 30, 35, 40, 45, 50]\n"
     ]
    }
   ],
   "source": [
    "# def divided_by_2(n):\n",
    "#     return int(n / 2)\n",
    "\n",
    "divided_by_2 = lambda n : int(n / 2)\n",
    "\n",
    "numbers = list(range(10, 101, 10))\n",
    "print(list(map(lambda n : int(n / 2), numbers)))"
   ]
  },
  {
   "cell_type": "markdown",
   "id": "05b08d65",
   "metadata": {},
   "source": [
    "# List Comprehension"
   ]
  },
  {
   "cell_type": "code",
   "execution_count": 18,
   "id": "9eb577fc",
   "metadata": {},
   "outputs": [
    {
     "name": "stdout",
     "output_type": "stream",
     "text": [
      "[101, 103, 107, 109, 113, 127, 131, 137, 139, 149, 151, 157, 163, 167, 173, 179, 181, 191, 193, 197, 199]\n",
      "[104, 106, 110, 112, 116, 130, 134, 140, 142, 152, 154, 160, 166, 170, 176, 182, 184, 194, 196, 200, 202]\n"
     ]
    }
   ],
   "source": [
    "from math import sqrt\n",
    "def is_prime(n):\n",
    "    if n < 2:\n",
    "        return False\n",
    "    for i in range(2, int(sqrt(n))+1):\n",
    "        if n % i == 0:\n",
    "            return False\n",
    "    return True\n",
    "\n",
    "# Contoh Filter dengan List Comprehension\n",
    "my_primes = [ number for number in range(100, 201) if is_prime(number) ]\n",
    "print(my_primes)\n",
    "\n",
    "# Contoh Map\n",
    "add_three = lambda n : n + 3\n",
    "my_primes_and_add_3 = [add_three(number) for number in range(100, 201) if is_prime(number)]\n",
    "print(my_primes_and_add_3)"
   ]
  },
  {
   "cell_type": "code",
   "execution_count": null,
   "id": "54eddda4",
   "metadata": {},
   "outputs": [],
   "source": []
  }
 ],
 "metadata": {
  "kernelspec": {
   "display_name": "Python 3 (ipykernel)",
   "language": "python",
   "name": "python3"
  },
  "language_info": {
   "codemirror_mode": {
    "name": "ipython",
    "version": 3
   },
   "file_extension": ".py",
   "mimetype": "text/x-python",
   "name": "python",
   "nbconvert_exporter": "python",
   "pygments_lexer": "ipython3",
   "version": "3.11.4"
  }
 },
 "nbformat": 4,
 "nbformat_minor": 5
}
