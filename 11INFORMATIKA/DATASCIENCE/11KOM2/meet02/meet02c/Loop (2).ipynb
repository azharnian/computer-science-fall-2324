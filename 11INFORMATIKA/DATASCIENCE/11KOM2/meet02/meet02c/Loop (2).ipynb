{
 "cells": [
  {
   "cell_type": "code",
   "execution_count": 3,
   "id": "bf04a2ac",
   "metadata": {},
   "outputs": [
    {
     "name": "stdout",
     "output_type": "stream",
     "text": [
      "0 2 4 6 8 10 "
     ]
    }
   ],
   "source": [
    "# numbers = list(range(0, 11, 2))\n",
    "# print(numbers)\n",
    "for number in range(0, 11, 2):\n",
    "    print(number, end=\" \")"
   ]
  },
  {
   "cell_type": "code",
   "execution_count": 5,
   "id": "eaa57245",
   "metadata": {},
   "outputs": [
    {
     "name": "stdout",
     "output_type": "stream",
     "text": [
      "0 cat\n",
      "1 dog\n",
      "2 rabbit\n"
     ]
    }
   ],
   "source": [
    "pets = [\"cat\", \"dog\", \"rabbit\"]\n",
    "for index, pet in enumerate(pets):\n",
    "    print(index, pet)"
   ]
  },
  {
   "cell_type": "markdown",
   "id": "7ff880db",
   "metadata": {},
   "source": [
    "## Boolean"
   ]
  },
  {
   "cell_type": "code",
   "execution_count": 7,
   "id": "9281f461",
   "metadata": {},
   "outputs": [
    {
     "name": "stdout",
     "output_type": "stream",
     "text": [
      "Input your name ?\n",
      "Who are you ?\n"
     ]
    }
   ],
   "source": [
    "def get_name():\n",
    "    user_name = input(\"Input your name ?\")\n",
    "    return user_name\n",
    "\n",
    "name = get_name()\n",
    "if name:\n",
    "    print(\"Welcome,\", name,\"!\")\n",
    "else:\n",
    "    print(\"Who are you ?\")"
   ]
  },
  {
   "cell_type": "markdown",
   "id": "55f20f7b",
   "metadata": {},
   "source": [
    "# Dictionaries"
   ]
  },
  {
   "cell_type": "code",
   "execution_count": 14,
   "id": "468ddebf",
   "metadata": {},
   "outputs": [
    {
     "name": "stdout",
     "output_type": "stream",
     "text": [
      "0811 Budi\n",
      "0812 Cindi\n",
      "0813 Dodi\n"
     ]
    }
   ],
   "source": [
    "contacts = {\n",
    "    \"0811\" : \"Budi\",\n",
    "    \"0812\" : \"Cindi\",\n",
    "    \"0813\" : \"Dodi\"\n",
    "}\n",
    "# print(contacts)\n",
    "for phone, name in contacts.items():\n",
    "    print(phone, name)"
   ]
  },
  {
   "cell_type": "code",
   "execution_count": 15,
   "id": "e5fe2973",
   "metadata": {},
   "outputs": [
    {
     "name": "stdout",
     "output_type": "stream",
     "text": [
      "{'0811': 'Budi', '0812': 'Cindi', '0813': 'Dodi', '0814': 'Edi'}\n"
     ]
    }
   ],
   "source": [
    "contacts[\"0814\"] = \"Edi\"\n",
    "print(contacts)"
   ]
  },
  {
   "cell_type": "code",
   "execution_count": 16,
   "id": "f5bf5305",
   "metadata": {},
   "outputs": [
    {
     "name": "stdout",
     "output_type": "stream",
     "text": [
      "{'0811': 'Feri', '0812': 'Cindi', '0813': 'Dodi', '0814': 'Edi'}\n"
     ]
    }
   ],
   "source": [
    "contacts[\"0811\"] = \"Feri\"\n",
    "print(contacts)"
   ]
  },
  {
   "cell_type": "code",
   "execution_count": 17,
   "id": "9757c121",
   "metadata": {},
   "outputs": [
    {
     "name": "stdout",
     "output_type": "stream",
     "text": [
      "{'0811': 'Feri', '0813': 'Dodi', '0814': 'Edi'}\n"
     ]
    }
   ],
   "source": [
    "del contacts[\"0812\"]\n",
    "print(contacts)"
   ]
  },
  {
   "cell_type": "markdown",
   "id": "d444a7a2",
   "metadata": {},
   "source": [
    "## Dictionary in Lists"
   ]
  },
  {
   "cell_type": "code",
   "execution_count": 21,
   "id": "30d7497f",
   "metadata": {},
   "outputs": [
    {
     "name": "stdout",
     "output_type": "stream",
     "text": [
      "0 0811 andi\n",
      "1 0812 budi\n",
      "2 0813 cindi\n"
     ]
    }
   ],
   "source": [
    "contacts = [\n",
    "    {\"0811\" : \"andi\"},\n",
    "    {\"0812\" : \"budi\"},\n",
    "    {\"0813\" : \"cindi\"}\n",
    "]\n",
    "\n",
    "for index, contact in enumerate(contacts):\n",
    "    print(index, end=\" \")\n",
    "    for phone, name in contact.items():\n",
    "        print(phone, name)"
   ]
  },
  {
   "cell_type": "markdown",
   "id": "5e253db7",
   "metadata": {},
   "source": [
    "## String"
   ]
  },
  {
   "cell_type": "code",
   "execution_count": 24,
   "id": "851e62aa",
   "metadata": {},
   "outputs": [
    {
     "name": "stdout",
     "output_type": "stream",
     "text": [
      "adi\n",
      "wiguna\n"
     ]
    }
   ],
   "source": [
    "fullname = \"adi wiguna\"\n",
    "first = fullname[0:3]\n",
    "print(first)\n",
    "last = fullname[4:10]\n",
    "print(last)"
   ]
  },
  {
   "cell_type": "code",
   "execution_count": 25,
   "id": "c1bee39e",
   "metadata": {},
   "outputs": [
    {
     "name": "stdout",
     "output_type": "stream",
     "text": [
      "budi\n",
      "gunawan\n"
     ]
    }
   ],
   "source": [
    "fullname = \"budi gunawan\"\n",
    "first, last = fullname.split(\" \")\n",
    "print(first)\n",
    "print(last)"
   ]
  },
  {
   "cell_type": "code",
   "execution_count": 26,
   "id": "7a8d0da2",
   "metadata": {},
   "outputs": [
    {
     "name": "stdout",
     "output_type": "stream",
     "text": [
      "budi\n",
      "sadikin\n"
     ]
    }
   ],
   "source": [
    "fullname = \"budi gunawan sadikin\"\n",
    "items = fullname.split(\" \")\n",
    "first, last = items[0], items[-1]\n",
    "print(first)\n",
    "print(last)"
   ]
  },
  {
   "cell_type": "code",
   "execution_count": null,
   "id": "35e3fce0",
   "metadata": {},
   "outputs": [],
   "source": []
  }
 ],
 "metadata": {
  "kernelspec": {
   "display_name": "Python 3 (ipykernel)",
   "language": "python",
   "name": "python3"
  },
  "language_info": {
   "codemirror_mode": {
    "name": "ipython",
    "version": 3
   },
   "file_extension": ".py",
   "mimetype": "text/x-python",
   "name": "python",
   "nbconvert_exporter": "python",
   "pygments_lexer": "ipython3",
   "version": "3.10.6"
  }
 },
 "nbformat": 4,
 "nbformat_minor": 5
}
