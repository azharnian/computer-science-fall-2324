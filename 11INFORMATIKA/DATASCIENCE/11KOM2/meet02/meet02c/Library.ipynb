{
 "cells": [
  {
   "cell_type": "markdown",
   "id": "2e29ca22",
   "metadata": {},
   "source": [
    "# datetime"
   ]
  },
  {
   "cell_type": "code",
   "execution_count": 7,
   "id": "5ec0f55e",
   "metadata": {},
   "outputs": [
    {
     "name": "stdout",
     "output_type": "stream",
     "text": [
      "2023-07-25 08:03:21.520531\n",
      "Year : 2023\n",
      "Month : 7\n"
     ]
    }
   ],
   "source": [
    "# import datetime\n",
    "from datetime import datetime as dt\n",
    "\n",
    "# print(datetime.datetime.now())\n",
    "today = dt.now()\n",
    "print(today)\n",
    "print(\"Year :\",today.year)\n",
    "print(\"Month :\", today.month)"
   ]
  },
  {
   "cell_type": "code",
   "execution_count": 8,
   "id": "184b93b6",
   "metadata": {},
   "outputs": [
    {
     "name": "stdout",
     "output_type": "stream",
     "text": [
      "False\n"
     ]
    }
   ],
   "source": [
    "from datetime import datetime as dt\n",
    "def is_it_newyear():\n",
    "    if dt.now().month == 1 and dt.now().day == 1:\n",
    "        return True\n",
    "    return False\n",
    "\n",
    "print(is_it_newyear())"
   ]
  },
  {
   "cell_type": "markdown",
   "id": "4a5b4f69",
   "metadata": {},
   "source": [
    "## Statictics"
   ]
  },
  {
   "cell_type": "code",
   "execution_count": 13,
   "id": "b6e40bbd",
   "metadata": {},
   "outputs": [
    {
     "name": "stdout",
     "output_type": "stream",
     "text": [
      "Mean : 23.33\n",
      "Median : 20.0\n",
      "Mode : 10\n",
      "Multimode : [10, 20]\n"
     ]
    }
   ],
   "source": [
    "from statistics import mean, median, mode, multimode\n",
    "numbers = [10, 20, 30, 10, 20, 50]\n",
    "\n",
    "print(f\"Mean : {mean(numbers):.2f}\" )\n",
    "print(f\"Median : {median(numbers)}\")\n",
    "print(f\"Mode : {mode(numbers)}\")\n",
    "print(f\"Multimode : {multimode(numbers)}\")"
   ]
  },
  {
   "cell_type": "code",
   "execution_count": null,
   "id": "13edecbc",
   "metadata": {},
   "outputs": [],
   "source": []
  }
 ],
 "metadata": {
  "kernelspec": {
   "display_name": "Python 3 (ipykernel)",
   "language": "python",
   "name": "python3"
  },
  "language_info": {
   "codemirror_mode": {
    "name": "ipython",
    "version": 3
   },
   "file_extension": ".py",
   "mimetype": "text/x-python",
   "name": "python",
   "nbconvert_exporter": "python",
   "pygments_lexer": "ipython3",
   "version": "3.10.6"
  }
 },
 "nbformat": 4,
 "nbformat_minor": 5
}
