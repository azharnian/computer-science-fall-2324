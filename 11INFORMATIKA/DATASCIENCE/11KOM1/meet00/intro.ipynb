{
 "cells": [
  {
   "cell_type": "markdown",
   "id": "4c7baac5",
   "metadata": {},
   "source": [
    "# Pengenalan python dengan jupyter"
   ]
  },
  {
   "cell_type": "markdown",
   "id": "a244fcc4",
   "metadata": {},
   "source": [
    "## Hello world ! dengan python"
   ]
  },
  {
   "cell_type": "markdown",
   "id": "1702b866",
   "metadata": {},
   "source": [
    "dengan menggunakan function print(), String Hello, world! dicetak di dalam console."
   ]
  },
  {
   "cell_type": "markdown",
   "id": "a81b206f",
   "metadata": {},
   "source": [
    "https://en.wikibooks.org/wiki/Non-Programmer%27s_Tutorial_for_Python_3/"
   ]
  },
  {
   "cell_type": "code",
   "execution_count": 1,
   "id": "18a9a17b",
   "metadata": {},
   "outputs": [
    {
     "name": "stdout",
     "output_type": "stream",
     "text": [
      "Hello, world!\n"
     ]
    }
   ],
   "source": [
    "print(\"Hello, world!\")"
   ]
  },
  {
   "cell_type": "code",
   "execution_count": 2,
   "id": "039321db",
   "metadata": {},
   "outputs": [
    {
     "name": "stdout",
     "output_type": "stream",
     "text": [
      "Firstish Grade\n",
      "1 + 1 = 2\n",
      "2 + 4 = 6\n",
      "5 - 2 = 3\n",
      "\n",
      "Thirdish Grade\n",
      "243 - 23 = 220\n",
      "12 * 4 = 48\n",
      "12 / 3 = 4.0\n",
      "13 / 3 = 4 R 1\n",
      "\n",
      "Junior High\n",
      "123.56 - 62.12 = 61.440000000000005\n",
      "(4 + 3) * 2 = 14\n",
      "4 + 3 * 2 = 10\n",
      "3 ** 2 = 9\n"
     ]
    }
   ],
   "source": [
    "# This is not quite true outside of USA\n",
    "# and is based on my dim memories of my younger years\n",
    "print(\"Firstish Grade\")\n",
    "print(\"1 + 1 =\", 1 + 1)\n",
    "print(\"2 + 4 =\", 2 + 4)\n",
    "print(\"5 - 2 =\", 5 - 2)\n",
    "print()\n",
    "print(\"Thirdish Grade\")\n",
    "print(\"243 - 23 =\", 243 - 23)\n",
    "print(\"12 * 4 =\", 12 * 4)\n",
    "print(\"12 / 3 =\", 12 / 3)\n",
    "print(\"13 / 3 =\", 13 // 3, \"R\", 13 % 3)\n",
    "print()\n",
    "print(\"Junior High\")\n",
    "print(\"123.56 - 62.12 =\", 123.56 - 62.12)\n",
    "print(\"(4 + 3) * 2 =\", (4 + 3) * 2)\n",
    "print(\"4 + 3 * 2 =\", 4 + 3 * 2)\n",
    "print(\"3 ** 2 =\", 3 ** 2)"
   ]
  },
  {
   "cell_type": "markdown",
   "id": "047bc339",
   "metadata": {},
   "source": [
    "## input  dan variables"
   ]
  },
  {
   "cell_type": "code",
   "execution_count": 3,
   "id": "90712f19",
   "metadata": {},
   "outputs": [
    {
     "name": "stdout",
     "output_type": "stream",
     "text": [
      "Halt!\n",
      "Who goes there? Djon\n",
      "You may pass, Djon\n"
     ]
    }
   ],
   "source": [
    "print(\"Halt!\")\n",
    "user_input = input(\"Who goes there? \")\n",
    "print(\"You may pass,\",  user_input)"
   ]
  },
  {
   "cell_type": "code",
   "execution_count": 4,
   "id": "628af482",
   "metadata": {},
   "outputs": [
    {
     "name": "stdout",
     "output_type": "stream",
     "text": [
      "a + b is 555.4\n",
      "first_name is Bill\n",
      "Sorted Parts, After Midnight or Spam\n"
     ]
    }
   ],
   "source": [
    "a = 123.4\n",
    "b23 = 'Spam'\n",
    "first_name = \"Bill\"\n",
    "b = 432\n",
    "c = a + b\n",
    "print(\"a + b is\",c)\n",
    "print(\"first_name is\",first_name)\n",
    "print(\"Sorted Parts, After Midnight or\",b23)"
   ]
  },
  {
   "cell_type": "code",
   "execution_count": 5,
   "id": "4a9757e4",
   "metadata": {},
   "outputs": [
    {
     "name": "stdout",
     "output_type": "stream",
     "text": [
      "Input a rate and a distance\n",
      "Rate: 10\n",
      "Distance: 100\n",
      "Time: 10.0\n"
     ]
    }
   ],
   "source": [
    "# This program calculates rate and distance problems\n",
    "print(\"Input a rate and a distance\")\n",
    "rate = float(input(\"Rate: \"))\n",
    "distance = float(input(\"Distance: \"))\n",
    "time=(distance/ rate)\n",
    "print(\"Time:\", time)"
   ]
  },
  {
   "cell_type": "markdown",
   "id": "1911fc09",
   "metadata": {},
   "source": [
    "## while loop"
   ]
  },
  {
   "cell_type": "code",
   "execution_count": 10,
   "id": "25d605bf",
   "metadata": {},
   "outputs": [
    {
     "name": "stdout",
     "output_type": "stream",
     "text": [
      "1 2 3 4 5 6 7 8 9 10 "
     ]
    }
   ],
   "source": [
    "a = 0            \n",
    "while a < 10:    \n",
    "    a = a + 1 \n",
    "    print(a, end=\" \") "
   ]
  },
  {
   "cell_type": "code",
   "execution_count": 11,
   "id": "a54b0ff9",
   "metadata": {},
   "outputs": [
    {
     "name": "stdout",
     "output_type": "stream",
     "text": [
      "Enter Numbers to add to the sum.\n",
      "Enter 0 to quit.\n",
      "Current Sum: 0\n",
      "Number? 2\n",
      "Current Sum: 2.0\n",
      "Number? 3\n",
      "Current Sum: 5.0\n",
      "Number? 0\n",
      "Total Sum = 5.0\n"
     ]
    }
   ],
   "source": [
    "a = 1\n",
    "s = 0\n",
    "print('Enter Numbers to add to the sum.')\n",
    "print('Enter 0 to quit.')\n",
    "while a != 0:                           \n",
    "    print('Current Sum:', s)            \n",
    "    a = float(input('Number? '))        \n",
    "    s = s + a                            \n",
    "print('Total Sum =', s)"
   ]
  },
  {
   "cell_type": "markdown",
   "id": "aee90e8e",
   "metadata": {},
   "source": [
    "looping di atas diubah dengan berhenti menggunakan break"
   ]
  },
  {
   "cell_type": "code",
   "execution_count": 12,
   "id": "a0fd95d4",
   "metadata": {},
   "outputs": [
    {
     "name": "stdout",
     "output_type": "stream",
     "text": [
      "Enter Numbers to add to the sum.\n",
      "Enter 0 to quit.\n",
      "Current Sum: 0\n",
      "Number? 3\n",
      "Current Sum: 3.0\n",
      "Number? 4\n",
      "Current Sum: 7.0\n",
      "Number? 0\n",
      "Total Sum = 7.0\n"
     ]
    }
   ],
   "source": [
    "a = 1\n",
    "s = 0\n",
    "print('Enter Numbers to add to the sum.')\n",
    "print('Enter 0 to quit.')\n",
    "while True:                           \n",
    "    print('Current Sum:', s)            \n",
    "    a = float(input('Number? '))        \n",
    "    s = s + a\n",
    "    if a == 0:\n",
    "        break\n",
    "print('Total Sum =', s)"
   ]
  },
  {
   "cell_type": "markdown",
   "id": "0119c296",
   "metadata": {},
   "source": [
    "# Decision"
   ]
  },
  {
   "cell_type": "code",
   "execution_count": 14,
   "id": "4d45e636",
   "metadata": {},
   "outputs": [
    {
     "name": "stdout",
     "output_type": "stream",
     "text": [
      "Number? 2\n",
      "The absolute value of 2 is 2\n"
     ]
    }
   ],
   "source": [
    "n = int(input(\"Number? \"))\n",
    "if n < 0:\n",
    "   print(\"The absolute value of\", n, \"is\", -n)\n",
    "else:\n",
    "   print(\"The absolute value of\", n, \"is\", n)"
   ]
  },
  {
   "cell_type": "code",
   "execution_count": 15,
   "id": "892584d1",
   "metadata": {},
   "outputs": [
    {
     "name": "stdout",
     "output_type": "stream",
     "text": [
      "Guess the number!\n",
      "Is it... 2\n",
      "It's bigger...\n",
      "Is it... 8\n",
      "It's not so big.\n",
      "Is it... 7\n",
      "Hooray! You guessed it right!\n"
     ]
    }
   ],
   "source": [
    "number = 7\n",
    "guess = -1\n",
    "\n",
    "print(\"Guess the number!\")\n",
    "while guess != number:\n",
    "    guess = int(input(\"Is it... \"))\n",
    "\n",
    "    if guess == number:\n",
    "        print(\"Hooray! You guessed it right!\")\n",
    "    elif guess < number:\n",
    "        print(\"It's bigger...\")\n",
    "    elif guess > number:\n",
    "        print(\"It's not so big.\")"
   ]
  },
  {
   "cell_type": "code",
   "execution_count": null,
   "id": "92ce3059",
   "metadata": {},
   "outputs": [],
   "source": []
  },
  {
   "cell_type": "code",
   "execution_count": null,
   "id": "6812f0a8",
   "metadata": {},
   "outputs": [],
   "source": []
  }
 ],
 "metadata": {
  "kernelspec": {
   "display_name": "Python 3 (ipykernel)",
   "language": "python",
   "name": "python3"
  },
  "language_info": {
   "codemirror_mode": {
    "name": "ipython",
    "version": 3
   },
   "file_extension": ".py",
   "mimetype": "text/x-python",
   "name": "python",
   "nbconvert_exporter": "python",
   "pygments_lexer": "ipython3",
   "version": "3.10.6"
  }
 },
 "nbformat": 4,
 "nbformat_minor": 5
}
