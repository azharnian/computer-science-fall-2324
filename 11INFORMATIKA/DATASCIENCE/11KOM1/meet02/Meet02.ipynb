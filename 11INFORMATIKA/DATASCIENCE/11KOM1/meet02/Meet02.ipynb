{
 "cells": [
  {
   "cell_type": "markdown",
   "id": "58104f78",
   "metadata": {},
   "source": [
    "## debugging"
   ]
  },
  {
   "cell_type": "code",
   "execution_count": 2,
   "id": "cee45e85",
   "metadata": {},
   "outputs": [
    {
     "name": "stdout",
     "output_type": "stream",
     "text": [
      "Hello\n"
     ]
    }
   ],
   "source": [
    "print(\"Hello\")"
   ]
  },
  {
   "cell_type": "code",
   "execution_count": 6,
   "id": "f0beeb9e",
   "metadata": {},
   "outputs": [
    {
     "name": "stdout",
     "output_type": "stream",
     "text": [
      "Masukkan angka 4\n",
      "410\n",
      "14\n"
     ]
    }
   ],
   "source": [
    "angka = input(\"Masukkan angka \")\n",
    "print(angka + \"10\")\n",
    "print(int(angka) + 10)"
   ]
  },
  {
   "cell_type": "markdown",
   "id": "eb956dd5",
   "metadata": {},
   "source": [
    "## Defining Function"
   ]
  },
  {
   "cell_type": "code",
   "execution_count": 2,
   "id": "aafbca6b",
   "metadata": {},
   "outputs": [
    {
     "name": "stdout",
     "output_type": "stream",
     "text": [
      "-10\n",
      "The absolute value of -10 is 10\n"
     ]
    }
   ],
   "source": [
    "def abs(n):\n",
    "    if n < 0:\n",
    "        return -n\n",
    "    return n\n",
    "number = int(input())\n",
    "print(f\"The absolute value of {number} is {abs(number)}\")"
   ]
  },
  {
   "cell_type": "markdown",
   "id": "c9c6bf73",
   "metadata": {},
   "source": [
    "ex : Function with side effect"
   ]
  },
  {
   "cell_type": "code",
   "execution_count": 6,
   "id": "3f7aaba3",
   "metadata": {},
   "outputs": [
    {
     "name": "stdout",
     "output_type": "stream",
     "text": [
      "False\n"
     ]
    }
   ],
   "source": [
    "def is_odd(n):\n",
    "    if n % 2 != 0:\n",
    "        return True #print(\"Odd!\") *side effect*\n",
    "    return False #else : print(\"Not!\") *side effect*\n",
    "\n",
    "print(is_odd(10))"
   ]
  },
  {
   "cell_type": "markdown",
   "id": "cefe8598",
   "metadata": {},
   "source": [
    "## variable in function"
   ]
  },
  {
   "cell_type": "code",
   "execution_count": 7,
   "id": "3fb81b13",
   "metadata": {},
   "outputs": [
    {
     "name": "stdout",
     "output_type": "stream",
     "text": [
      "10\n",
      "7\n"
     ]
    }
   ],
   "source": [
    "a = 10\n",
    "\n",
    "def print_number_a():\n",
    "    a = 7\n",
    "    print(a)\n",
    "    \n",
    "print(a)\n",
    "print_number_a()"
   ]
  },
  {
   "cell_type": "markdown",
   "id": "28fc89a5",
   "metadata": {},
   "source": [
    "# Lists"
   ]
  },
  {
   "cell_type": "code",
   "execution_count": 9,
   "id": "856c240b",
   "metadata": {},
   "outputs": [
    {
     "name": "stdout",
     "output_type": "stream",
     "text": [
      "100\n",
      "65\n",
      "65\n",
      "[200, 90, 60]\n"
     ]
    }
   ],
   "source": [
    "scores = [100, 90, 60, 65]\n",
    "print(scores[0])\n",
    "print(scores[3])\n",
    "print(scores[-1])\n",
    "scores[0] = 200\n",
    "scores.pop()\n",
    "print(scores)"
   ]
  },
  {
   "cell_type": "code",
   "execution_count": null,
   "id": "ab6e7222",
   "metadata": {},
   "outputs": [],
   "source": []
  }
 ],
 "metadata": {
  "kernelspec": {
   "display_name": "Python 3 (ipykernel)",
   "language": "python",
   "name": "python3"
  },
  "language_info": {
   "codemirror_mode": {
    "name": "ipython",
    "version": 3
   },
   "file_extension": ".py",
   "mimetype": "text/x-python",
   "name": "python",
   "nbconvert_exporter": "python",
   "pygments_lexer": "ipython3",
   "version": "3.10.6"
  }
 },
 "nbformat": 4,
 "nbformat_minor": 5
}
