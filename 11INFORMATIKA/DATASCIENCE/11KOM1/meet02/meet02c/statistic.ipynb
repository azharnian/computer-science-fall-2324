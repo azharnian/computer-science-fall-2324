{
 "cells": [
  {
   "cell_type": "markdown",
   "id": "510575f7",
   "metadata": {},
   "source": [
    "# Statistic Library"
   ]
  },
  {
   "cell_type": "code",
   "execution_count": 6,
   "id": "a9422ab9",
   "metadata": {},
   "outputs": [
    {
     "name": "stdout",
     "output_type": "stream",
     "text": [
      "Mean : 24.29\n"
     ]
    }
   ],
   "source": [
    "from statistics import mean, median, mode, multimode\n",
    "\n",
    "data = [10, 20, 30, 10, 20, 30, 50]\n",
    "\n",
    "print(f\"Mean : {mean(data):.2f}\")"
   ]
  },
  {
   "cell_type": "code",
   "execution_count": 8,
   "id": "7b67602b",
   "metadata": {},
   "outputs": [
    {
     "name": "stdout",
     "output_type": "stream",
     "text": [
      "Median : 20\n"
     ]
    }
   ],
   "source": [
    "print(f\"Median : {median(data)}\")"
   ]
  },
  {
   "cell_type": "code",
   "execution_count": 9,
   "id": "5ab5a76c",
   "metadata": {},
   "outputs": [
    {
     "name": "stdout",
     "output_type": "stream",
     "text": [
      "Mode : 10\n"
     ]
    }
   ],
   "source": [
    "print(f\"Mode : {mode(data)}\")"
   ]
  },
  {
   "cell_type": "code",
   "execution_count": 10,
   "id": "2f0bdd5b",
   "metadata": {},
   "outputs": [
    {
     "name": "stdout",
     "output_type": "stream",
     "text": [
      "Multimode : [10, 20, 30]\n"
     ]
    }
   ],
   "source": [
    "print(f\"Multimode : {multimode(data)}\")"
   ]
  },
  {
   "cell_type": "code",
   "execution_count": 11,
   "id": "aa8ec849",
   "metadata": {},
   "outputs": [
    {
     "name": "stdout",
     "output_type": "stream",
     "text": [
      "Input a number : anas\n",
      "Your input is not a number!\n"
     ]
    }
   ],
   "source": [
    "try :\n",
    "    number = int(input(\"Input a number : \"))\n",
    "    print(f\"Your number is : {number}\")\n",
    "except :\n",
    "    print(\"Your input is not a number!\")"
   ]
  },
  {
   "cell_type": "code",
   "execution_count": 13,
   "id": "129a79cf",
   "metadata": {},
   "outputs": [
    {
     "name": "stdout",
     "output_type": "stream",
     "text": [
      "Input a number : anas\n",
      "Your input is not a number!\n",
      "done.\n"
     ]
    }
   ],
   "source": [
    "try :\n",
    "    number = int(input(\"Input a number : \"))\n",
    "except :\n",
    "    print(\"Your input is not a number!\")\n",
    "else :\n",
    "    print(f\"Your number is : {number}\")\n",
    "finally :\n",
    "    print(\"done.\")"
   ]
  },
  {
   "cell_type": "code",
   "execution_count": null,
   "id": "6fd63daa",
   "metadata": {},
   "outputs": [],
   "source": []
  }
 ],
 "metadata": {
  "kernelspec": {
   "display_name": "Python 3 (ipykernel)",
   "language": "python",
   "name": "python3"
  },
  "language_info": {
   "codemirror_mode": {
    "name": "ipython",
    "version": 3
   },
   "file_extension": ".py",
   "mimetype": "text/x-python",
   "name": "python",
   "nbconvert_exporter": "python",
   "pygments_lexer": "ipython3",
   "version": "3.10.6"
  }
 },
 "nbformat": 4,
 "nbformat_minor": 5
}
