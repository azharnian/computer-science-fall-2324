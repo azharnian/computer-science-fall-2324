{
 "cells": [
  {
   "cell_type": "markdown",
   "id": "ef947674",
   "metadata": {},
   "source": [
    "# LIST, MAP, & FILTER"
   ]
  },
  {
   "cell_type": "markdown",
   "id": "accb4517",
   "metadata": {},
   "source": [
    "## Filter Function"
   ]
  },
  {
   "cell_type": "code",
   "execution_count": 26,
   "id": "fd99acaa",
   "metadata": {},
   "outputs": [
    {
     "name": "stdout",
     "output_type": "stream",
     "text": [
      "[2, 3, 5, 7, 11, 13, 17, 19, 23, 29, 31, 37, 41, 43, 47, 53, 59, 61, 67, 71, 73, 79, 83, 89, 97]\n",
      "[23, 29, 41, 43, 47, 61, 67, 83, 89]\n"
     ]
    }
   ],
   "source": [
    "from math import sqrt\n",
    "\n",
    "def is_prime(n):\n",
    "    if n <= 1:\n",
    "        return False\n",
    "    for i in range(2, int(sqrt(n)+1)):\n",
    "        if n % i == 0:\n",
    "            return False\n",
    "    return True\n",
    "\n",
    "def is_even_tenth(n):\n",
    "    if n > 10 and int(str(n)[0]) % 2 == 0:\n",
    "        return True\n",
    "    return False\n",
    "\n",
    "prime_numbers = list(filter(is_prime, range(0, 101)))\n",
    "print(prime_numbers)\n",
    "\n",
    "even_tenth = list(filter(is_even_tenth, prime_numbers))\n",
    "print(even_tenth)\n",
    "\n"
   ]
  },
  {
   "cell_type": "markdown",
   "id": "cf540631",
   "metadata": {},
   "source": [
    "## Map Function"
   ]
  },
  {
   "cell_type": "code",
   "execution_count": 27,
   "id": "76768545",
   "metadata": {},
   "outputs": [
    {
     "name": "stdout",
     "output_type": "stream",
     "text": [
      "[0, 2, 4, 6, 8, 10, 12, 14, 16, 18]\n"
     ]
    }
   ],
   "source": [
    "times_by_two = lambda n : n * 2\n",
    "\n",
    "numbers = list(range(0, 10))\n",
    "new = list(map(times_by_two, numbers))\n",
    "print(new)"
   ]
  },
  {
   "cell_type": "code",
   "execution_count": 31,
   "id": "ac25aa02",
   "metadata": {},
   "outputs": [
    {
     "name": "stdout",
     "output_type": "stream",
     "text": [
      "2 3 4\n"
     ]
    },
    {
     "ename": "ValueError",
     "evalue": "invalid literal for int() with base 10: '2 3 4'",
     "output_type": "error",
     "traceback": [
      "\u001b[0;31m---------------------------------------------------------------------------\u001b[0m",
      "\u001b[0;31mValueError\u001b[0m                                Traceback (most recent call last)",
      "Cell \u001b[0;32mIn[31], line 4\u001b[0m\n\u001b[1;32m      1\u001b[0m \u001b[38;5;66;03m# a, b, c = input().split()\u001b[39;00m\n\u001b[1;32m      2\u001b[0m \u001b[38;5;66;03m# a, b, c = int(a), int(b), int(c)\u001b[39;00m\n\u001b[0;32m----> 4\u001b[0m a, b, c \u001b[38;5;241m=\u001b[39m \u001b[38;5;28;43mlist\u001b[39;49m\u001b[43m(\u001b[49m\u001b[38;5;28;43mmap\u001b[39;49m\u001b[43m(\u001b[49m\u001b[38;5;28;43mint\u001b[39;49m\u001b[43m,\u001b[49m\u001b[43m \u001b[49m\u001b[38;5;28;43minput\u001b[39;49m\u001b[43m(\u001b[49m\u001b[43m)\u001b[49m\u001b[38;5;241;43m.\u001b[39;49m\u001b[43msplit\u001b[49m\u001b[43m(\u001b[49m\u001b[38;5;124;43m\"\u001b[39;49m\u001b[38;5;124;43m,\u001b[39;49m\u001b[38;5;124;43m\"\u001b[39;49m\u001b[43m)\u001b[49m\u001b[43m)\u001b[49m\u001b[43m)\u001b[49m\n\u001b[1;32m      5\u001b[0m \u001b[38;5;28mprint\u001b[39m(a, b, c)\n",
      "\u001b[0;31mValueError\u001b[0m: invalid literal for int() with base 10: '2 3 4'"
     ]
    }
   ],
   "source": [
    "# a, b, c = input().split()\n",
    "# a, b, c = int(a), int(b), int(c)\n",
    "\n",
    "a, b, c = list(map(int, input().split(\",\")))\n",
    "print(a, b, c)"
   ]
  },
  {
   "cell_type": "markdown",
   "id": "abb67b49",
   "metadata": {},
   "source": [
    "## List Comprehension"
   ]
  },
  {
   "cell_type": "code",
   "execution_count": 38,
   "id": "00a5aba3",
   "metadata": {},
   "outputs": [
    {
     "name": "stdout",
     "output_type": "stream",
     "text": [
      "[0, 2, 4, 6, 8, 10]\n",
      "[23, 29, 41, 43, 47, 61, 67, 83, 89]\n"
     ]
    }
   ],
   "source": [
    "numbers = list(range(0,11))\n",
    "even_numbers = [ number for number in numbers if number%2 == 0 ]\n",
    "\n",
    "print(even_numbers)\n",
    "prime_numbers = [ number for number in range(0, 101) if is_prime(number) and is_even_tenth(number)]\n",
    "print(prime_numbers)\n"
   ]
  },
  {
   "cell_type": "code",
   "execution_count": 42,
   "id": "80008f53",
   "metadata": {},
   "outputs": [
    {
     "name": "stdout",
     "output_type": "stream",
     "text": [
      "[10, 12]\n"
     ]
    }
   ],
   "source": [
    "add_three = lambda x : x + 3\n",
    "\n",
    "odd_number = [add_three(number) for number in range(1, 10, 2) if number > 5]\n",
    "print(odd_number)"
   ]
  },
  {
   "cell_type": "code",
   "execution_count": null,
   "id": "d7355105",
   "metadata": {},
   "outputs": [],
   "source": []
  }
 ],
 "metadata": {
  "kernelspec": {
   "display_name": "Python 3 (ipykernel)",
   "language": "python",
   "name": "python3"
  },
  "language_info": {
   "codemirror_mode": {
    "name": "ipython",
    "version": 3
   },
   "file_extension": ".py",
   "mimetype": "text/x-python",
   "name": "python",
   "nbconvert_exporter": "python",
   "pygments_lexer": "ipython3",
   "version": "3.8.10"
  }
 },
 "nbformat": 4,
 "nbformat_minor": 5
}
