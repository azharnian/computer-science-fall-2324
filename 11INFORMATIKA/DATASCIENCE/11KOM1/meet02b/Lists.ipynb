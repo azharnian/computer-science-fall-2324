{
 "cells": [
  {
   "cell_type": "markdown",
   "id": "b59818a9",
   "metadata": {},
   "source": [
    "# Menambahkan item ke lists"
   ]
  },
  {
   "cell_type": "code",
   "execution_count": 38,
   "id": "88d8a09f",
   "metadata": {},
   "outputs": [
    {
     "name": "stdout",
     "output_type": "stream",
     "text": [
      "['ron', 'harry', 'draco', 'amira']\n"
     ]
    }
   ],
   "source": [
    "students = [\"ron\", \"harry\", \"draco\"]\n",
    "students.append(\"amira\")\n",
    "print(students)"
   ]
  },
  {
   "cell_type": "markdown",
   "id": "79332097",
   "metadata": {},
   "source": [
    "# Mengganti item dengan akses index"
   ]
  },
  {
   "cell_type": "code",
   "execution_count": 39,
   "id": "c5978feb",
   "metadata": {},
   "outputs": [
    {
     "name": "stdout",
     "output_type": "stream",
     "text": [
      "['ron', 'delbert', 'draco', 'amira']\n"
     ]
    }
   ],
   "source": [
    "students[1] = \"delbert\"\n",
    "print(students)"
   ]
  },
  {
   "cell_type": "code",
   "execution_count": 40,
   "id": "71654c18",
   "metadata": {},
   "outputs": [
    {
     "name": "stdout",
     "output_type": "stream",
     "text": [
      "4\n"
     ]
    }
   ],
   "source": [
    "print(len(students))"
   ]
  },
  {
   "cell_type": "markdown",
   "id": "2bc49672",
   "metadata": {},
   "source": [
    "# Menghapus item dengan index"
   ]
  },
  {
   "cell_type": "code",
   "execution_count": 41,
   "id": "d3ca1d0b",
   "metadata": {},
   "outputs": [
    {
     "name": "stdout",
     "output_type": "stream",
     "text": [
      "['ron', 'delbert', 'amira']\n"
     ]
    }
   ],
   "source": [
    "del students[2]\n",
    "print(students)"
   ]
  },
  {
   "cell_type": "code",
   "execution_count": 42,
   "id": "8cb1b6c1",
   "metadata": {},
   "outputs": [
    {
     "name": "stdout",
     "output_type": "stream",
     "text": [
      "['delbert', 'amira']\n"
     ]
    }
   ],
   "source": [
    "students.remove(\"ron\")\n",
    "print(students)"
   ]
  },
  {
   "cell_type": "code",
   "execution_count": 43,
   "id": "fefedf97",
   "metadata": {},
   "outputs": [
    {
     "name": "stdout",
     "output_type": "stream",
     "text": [
      "['delbert']\n"
     ]
    }
   ],
   "source": [
    "students.pop()\n",
    "print(students)"
   ]
  },
  {
   "cell_type": "code",
   "execution_count": 44,
   "id": "47ad2d7c",
   "metadata": {},
   "outputs": [
    {
     "name": "stdout",
     "output_type": "stream",
     "text": [
      "False\n"
     ]
    }
   ],
   "source": [
    "print(\"amira\" in students)"
   ]
  },
  {
   "cell_type": "code",
   "execution_count": 45,
   "id": "dd7dbd92",
   "metadata": {},
   "outputs": [
    {
     "name": "stdout",
     "output_type": "stream",
     "text": [
      "True\n"
     ]
    }
   ],
   "source": [
    "print(\"amira\" not in students)"
   ]
  },
  {
   "cell_type": "markdown",
   "id": "8644d3e1",
   "metadata": {},
   "source": [
    "# Looping For"
   ]
  },
  {
   "cell_type": "code",
   "execution_count": 46,
   "id": "85f64e05",
   "metadata": {},
   "outputs": [
    {
     "name": "stdout",
     "output_type": "stream",
     "text": [
      "100 80 70 50 100 "
     ]
    }
   ],
   "source": [
    "scores = [100, 80, 70, 50, 100]\n",
    "for _ in scores:\n",
    "    print(_, end=\" \")"
   ]
  },
  {
   "cell_type": "code",
   "execution_count": 47,
   "id": "e6836643",
   "metadata": {},
   "outputs": [
    {
     "name": "stdout",
     "output_type": "stream",
     "text": [
      "Andi Budi Cindy "
     ]
    }
   ],
   "source": [
    "names = [\"Andi\", \"Budi\", \"Cindy\"]\n",
    "for name in names:\n",
    "    print(name, end=\" \")"
   ]
  },
  {
   "cell_type": "code",
   "execution_count": 48,
   "id": "a9105a57",
   "metadata": {},
   "outputs": [
    {
     "name": "stdout",
     "output_type": "stream",
     "text": [
      "[0, 1, 2, 3, 4, 5, 6, 7, 8, 9]\n"
     ]
    }
   ],
   "source": [
    "numbers = list(range(0, 10))\n",
    "print(numbers)"
   ]
  },
  {
   "cell_type": "code",
   "execution_count": 49,
   "id": "3b0db3c0",
   "metadata": {},
   "outputs": [
    {
     "name": "stdout",
     "output_type": "stream",
     "text": [
      "0 1 2 3 4 5 6 7 8 9 "
     ]
    }
   ],
   "source": [
    "for _ in range(0, 10):\n",
    "    print(_, end=\" \")"
   ]
  },
  {
   "cell_type": "code",
   "execution_count": 50,
   "id": "b0ba05a8",
   "metadata": {},
   "outputs": [
    {
     "name": "stdout",
     "output_type": "stream",
     "text": [
      "fabian\n"
     ]
    }
   ],
   "source": [
    "students = {\"22.1313\" : \"fabian\", \"22.4444\" : \"daffa\"}\n",
    "print(students[\"22.1313\"])"
   ]
  },
  {
   "cell_type": "code",
   "execution_count": 51,
   "id": "4d9f417f",
   "metadata": {},
   "outputs": [
    {
     "name": "stdout",
     "output_type": "stream",
     "text": [
      "{'22.1313': 'fabian', '22.4444': 'daffa'}\n"
     ]
    }
   ],
   "source": [
    "print(students)"
   ]
  },
  {
   "cell_type": "code",
   "execution_count": 52,
   "id": "8f534a93",
   "metadata": {},
   "outputs": [
    {
     "name": "stdout",
     "output_type": "stream",
     "text": [
      "22.1313 fabian\n",
      "22.4444 daffa\n"
     ]
    }
   ],
   "source": [
    "for key, val in students.items():\n",
    "    print(key, val)"
   ]
  },
  {
   "cell_type": "code",
   "execution_count": 53,
   "id": "acacdfe5",
   "metadata": {},
   "outputs": [
    {
     "name": "stdout",
     "output_type": "stream",
     "text": [
      "phone number : 0811\n",
      "\tname: Josh\n",
      "\tsex: Male\n",
      "\tyear 2023\n",
      "\n",
      "phone number : 0812\n",
      "\tname: Ave\n",
      "\tsex: Female\n",
      "\tyear 2022\n",
      "\n"
     ]
    }
   ],
   "source": [
    "#dict in dict\n",
    "persons = {\n",
    "    \"0811\" : {\n",
    "        \"name\" : \"Josh\",\n",
    "        \"sex\" : \"Male\",\n",
    "        \"year\" : 2023\n",
    "    },\n",
    "    \"0812\" : {\n",
    "        \"name\" : \"Ave\",\n",
    "        \"sex\" : \"Female\",\n",
    "        \"year\" : 2022\n",
    "    }\n",
    "}\n",
    "\n",
    "for phone, info in persons.items():\n",
    "    print(\"phone number :\",phone)\n",
    "    print(\"\\tname:\", info[\"name\"])\n",
    "    print(\"\\tsex:\", info[\"sex\"])\n",
    "    print(\"\\tyear\", info[\"year\"], end=\"\\n\\n\")"
   ]
  },
  {
   "cell_type": "code",
   "execution_count": 54,
   "id": "f1398249",
   "metadata": {},
   "outputs": [
    {
     "name": "stdout",
     "output_type": "stream",
     "text": [
      "0 andi 0811\n",
      "1 budi 0812\n",
      "2 cindy 0813\n",
      "3 dodi 0814\n"
     ]
    }
   ],
   "source": [
    "persons = [\n",
    "    {\"name\" : \"andi\", \"phone\" : \"0811\"},\n",
    "    {\"name\" : \"budi\", \"phone\" : \"0812\"},\n",
    "    {\"name\" : \"cindy\", \"phone\" : \"0813\"},\n",
    "    {\"name\" : \"dodi\", \"phone\" : \"0814\"}\n",
    "]\n",
    "\n",
    "for index, person in enumerate(persons):\n",
    "    print(index, person[\"name\"], person[\"phone\"])"
   ]
  },
  {
   "cell_type": "markdown",
   "id": "b6bf6e73",
   "metadata": {},
   "source": [
    "## copying lists"
   ]
  },
  {
   "cell_type": "code",
   "execution_count": 55,
   "id": "7fdbcdf7",
   "metadata": {},
   "outputs": [
    {
     "name": "stdout",
     "output_type": "stream",
     "text": [
      "banks :  ['bri', 'btn', 'bca', 'kredivo']\n",
      "copy_banks :  ['bri', 'btn', 'bca', 'kredivo']\n",
      "copy_real_banks : ['bri', 'btn', 'bca']\n"
     ]
    }
   ],
   "source": [
    "banks = [\"bri\", \"btn\", \"bca\"]\n",
    "copy_banks = banks\n",
    "copy_real_banks = banks[:]\n",
    "banks.append(\"kredivo\")\n",
    "print(\"banks : \", banks)\n",
    "print(\"copy_banks : \", copy_banks)\n",
    "print(\"copy_real_banks :\", copy_real_banks)"
   ]
  },
  {
   "cell_type": "markdown",
   "id": "8fc60b74",
   "metadata": {},
   "source": [
    "## Strings"
   ]
  },
  {
   "cell_type": "code",
   "execution_count": 56,
   "id": "e2b198ae",
   "metadata": {},
   "outputs": [
    {
     "name": "stdout",
     "output_type": "stream",
     "text": [
      "d\n",
      "Budi\n"
     ]
    }
   ],
   "source": [
    "full_name = \"Budi Santoso\"\n",
    "print(full_name[2])\n",
    "first_name = full_name[0:4] #slicing string\n",
    "print(first_name)"
   ]
  },
  {
   "cell_type": "markdown",
   "id": "7074a674",
   "metadata": {},
   "source": [
    "# Libraries"
   ]
  },
  {
   "cell_type": "code",
   "execution_count": 57,
   "id": "d98c8d67",
   "metadata": {},
   "outputs": [
    {
     "name": "stdout",
     "output_type": "stream",
     "text": [
      "2023-07-20 13:51:57.410900\n",
      "Year : 2023\n"
     ]
    }
   ],
   "source": [
    "# import datetime\n",
    "# from datetime import datetime\n",
    "from datetime import datetime as dt\n",
    "\n",
    "# print(datetime.datetime.now())\n",
    "# print(datetime.now())\n",
    "today = dt.now()\n",
    "print(today)\n",
    "print(\"Year :\", today.year)"
   ]
  },
  {
   "cell_type": "code",
   "execution_count": null,
   "id": "79feabb3",
   "metadata": {},
   "outputs": [],
   "source": []
  }
 ],
 "metadata": {
  "kernelspec": {
   "display_name": "Python 3 (ipykernel)",
   "language": "python",
   "name": "python3"
  },
  "language_info": {
   "codemirror_mode": {
    "name": "ipython",
    "version": 3
   },
   "file_extension": ".py",
   "mimetype": "text/x-python",
   "name": "python",
   "nbconvert_exporter": "python",
   "pygments_lexer": "ipython3",
   "version": "3.10.6"
  }
 },
 "nbformat": 4,
 "nbformat_minor": 5
}
