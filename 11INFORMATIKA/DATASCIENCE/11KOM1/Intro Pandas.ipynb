{
 "cells": [
  {
   "cell_type": "markdown",
   "id": "111eeabb",
   "metadata": {},
   "source": [
    "# Pandas : dataframe and series"
   ]
  },
  {
   "cell_type": "markdown",
   "id": "0ad1ab84",
   "metadata": {},
   "source": [
    "## Dataframe"
   ]
  },
  {
   "cell_type": "code",
   "execution_count": 5,
   "id": "fdb7177a",
   "metadata": {},
   "outputs": [],
   "source": [
    "import pandas as pd"
   ]
  },
  {
   "cell_type": "markdown",
   "id": "c2818c32",
   "metadata": {},
   "source": [
    "### Case 0 : Using Dictionary"
   ]
  },
  {
   "cell_type": "code",
   "execution_count": 6,
   "id": "c3728b52",
   "metadata": {},
   "outputs": [
    {
     "data": {
      "text/html": [
       "<div>\n",
       "<style scoped>\n",
       "    .dataframe tbody tr th:only-of-type {\n",
       "        vertical-align: middle;\n",
       "    }\n",
       "\n",
       "    .dataframe tbody tr th {\n",
       "        vertical-align: top;\n",
       "    }\n",
       "\n",
       "    .dataframe thead th {\n",
       "        text-align: right;\n",
       "    }\n",
       "</style>\n",
       "<table border=\"1\" class=\"dataframe\">\n",
       "  <thead>\n",
       "    <tr style=\"text-align: right;\">\n",
       "      <th></th>\n",
       "      <th>students</th>\n",
       "      <th>scores</th>\n",
       "    </tr>\n",
       "  </thead>\n",
       "  <tbody>\n",
       "    <tr>\n",
       "      <th>0</th>\n",
       "      <td>Andi</td>\n",
       "      <td>100</td>\n",
       "    </tr>\n",
       "    <tr>\n",
       "      <th>1</th>\n",
       "      <td>Budi</td>\n",
       "      <td>90</td>\n",
       "    </tr>\n",
       "    <tr>\n",
       "      <th>2</th>\n",
       "      <td>Cindy</td>\n",
       "      <td>80</td>\n",
       "    </tr>\n",
       "  </tbody>\n",
       "</table>\n",
       "</div>"
      ],
      "text/plain": [
       "  students  scores\n",
       "0     Andi     100\n",
       "1     Budi      90\n",
       "2    Cindy      80"
      ]
     },
     "execution_count": 6,
     "metadata": {},
     "output_type": "execute_result"
    }
   ],
   "source": [
    "students = [\"Andi\", \"Budi\", \"Cindy\"]\n",
    "scores = [100, 90, 80]\n",
    "\n",
    "exams = {\"students\" : students, \"scores\" : scores}\n",
    "\n",
    "df_exams = pd.DataFrame(exams)\n",
    "df_exams"
   ]
  },
  {
   "cell_type": "markdown",
   "id": "af09015b",
   "metadata": {},
   "source": [
    "### Case 1 : From CSV"
   ]
  },
  {
   "cell_type": "code",
   "execution_count": 7,
   "id": "81a476ae",
   "metadata": {},
   "outputs": [],
   "source": [
    "students = pd.read_csv(\"meet04\\students.csv\")"
   ]
  },
  {
   "cell_type": "code",
   "execution_count": 8,
   "id": "0b01385b",
   "metadata": {},
   "outputs": [
    {
     "data": {
      "text/html": [
       "<div>\n",
       "<style scoped>\n",
       "    .dataframe tbody tr th:only-of-type {\n",
       "        vertical-align: middle;\n",
       "    }\n",
       "\n",
       "    .dataframe tbody tr th {\n",
       "        vertical-align: top;\n",
       "    }\n",
       "\n",
       "    .dataframe thead th {\n",
       "        text-align: right;\n",
       "    }\n",
       "</style>\n",
       "<table border=\"1\" class=\"dataframe\">\n",
       "  <thead>\n",
       "    <tr style=\"text-align: right;\">\n",
       "      <th></th>\n",
       "      <th>No</th>\n",
       "      <th>Nama</th>\n",
       "      <th>Kelas</th>\n",
       "      <th>Nilai</th>\n",
       "    </tr>\n",
       "  </thead>\n",
       "  <tbody>\n",
       "    <tr>\n",
       "      <th>0</th>\n",
       "      <td>1</td>\n",
       "      <td>Andi</td>\n",
       "      <td>11 KOM 1</td>\n",
       "      <td>100</td>\n",
       "    </tr>\n",
       "    <tr>\n",
       "      <th>1</th>\n",
       "      <td>2</td>\n",
       "      <td>Budi</td>\n",
       "      <td>11 KOM 2</td>\n",
       "      <td>90</td>\n",
       "    </tr>\n",
       "    <tr>\n",
       "      <th>2</th>\n",
       "      <td>3</td>\n",
       "      <td>Cindi</td>\n",
       "      <td>11 KOM 2</td>\n",
       "      <td>80</td>\n",
       "    </tr>\n",
       "  </tbody>\n",
       "</table>\n",
       "</div>"
      ],
      "text/plain": [
       "   No   Nama     Kelas  Nilai\n",
       "0   1   Andi  11 KOM 1    100\n",
       "1   2   Budi  11 KOM 2     90\n",
       "2   3  Cindi  11 KOM 2     80"
      ]
     },
     "execution_count": 8,
     "metadata": {},
     "output_type": "execute_result"
    }
   ],
   "source": [
    "students.head()"
   ]
  },
  {
   "cell_type": "code",
   "execution_count": 9,
   "id": "dd3309fe",
   "metadata": {},
   "outputs": [
    {
     "name": "stdout",
     "output_type": "stream",
     "text": [
      "<class 'pandas.core.frame.DataFrame'>\n"
     ]
    }
   ],
   "source": [
    "print(type(students))"
   ]
  },
  {
   "cell_type": "code",
   "execution_count": 10,
   "id": "11b14272",
   "metadata": {},
   "outputs": [
    {
     "data": {
      "text/plain": [
       "Index(['No', 'Nama', 'Kelas', 'Nilai'], dtype='object')"
      ]
     },
     "execution_count": 10,
     "metadata": {},
     "output_type": "execute_result"
    }
   ],
   "source": [
    "students.columns"
   ]
  },
  {
   "cell_type": "code",
   "execution_count": 11,
   "id": "7b5f11f1",
   "metadata": {},
   "outputs": [
    {
     "data": {
      "text/plain": [
       "(3, 4)"
      ]
     },
     "execution_count": 11,
     "metadata": {},
     "output_type": "execute_result"
    }
   ],
   "source": [
    "students.shape"
   ]
  },
  {
   "cell_type": "code",
   "execution_count": 12,
   "id": "65d66a99",
   "metadata": {},
   "outputs": [
    {
     "data": {
      "text/html": [
       "<div>\n",
       "<style scoped>\n",
       "    .dataframe tbody tr th:only-of-type {\n",
       "        vertical-align: middle;\n",
       "    }\n",
       "\n",
       "    .dataframe tbody tr th {\n",
       "        vertical-align: top;\n",
       "    }\n",
       "\n",
       "    .dataframe thead th {\n",
       "        text-align: right;\n",
       "    }\n",
       "</style>\n",
       "<table border=\"1\" class=\"dataframe\">\n",
       "  <thead>\n",
       "    <tr style=\"text-align: right;\">\n",
       "      <th></th>\n",
       "      <th>No</th>\n",
       "      <th>Nama</th>\n",
       "      <th>Kelas</th>\n",
       "    </tr>\n",
       "  </thead>\n",
       "  <tbody>\n",
       "    <tr>\n",
       "      <th>0</th>\n",
       "      <td>1</td>\n",
       "      <td>Andi</td>\n",
       "      <td>11 KOM 1</td>\n",
       "    </tr>\n",
       "    <tr>\n",
       "      <th>1</th>\n",
       "      <td>2</td>\n",
       "      <td>Budi</td>\n",
       "      <td>11 KOM 2</td>\n",
       "    </tr>\n",
       "    <tr>\n",
       "      <th>2</th>\n",
       "      <td>3</td>\n",
       "      <td>Cindi</td>\n",
       "      <td>11 KOM 2</td>\n",
       "    </tr>\n",
       "  </tbody>\n",
       "</table>\n",
       "</div>"
      ],
      "text/plain": [
       "   No   Nama     Kelas\n",
       "0   1   Andi  11 KOM 1\n",
       "1   2   Budi  11 KOM 2\n",
       "2   3  Cindi  11 KOM 2"
      ]
     },
     "execution_count": 12,
     "metadata": {},
     "output_type": "execute_result"
    }
   ],
   "source": [
    "students.iloc[:, :3] "
   ]
  },
  {
   "cell_type": "markdown",
   "id": "1e9f556c",
   "metadata": {},
   "source": [
    "### Case 2 : From Numpy"
   ]
  },
  {
   "cell_type": "code",
   "execution_count": 19,
   "id": "b622e4e5",
   "metadata": {},
   "outputs": [
    {
     "data": {
      "text/html": [
       "<div>\n",
       "<style scoped>\n",
       "    .dataframe tbody tr th:only-of-type {\n",
       "        vertical-align: middle;\n",
       "    }\n",
       "\n",
       "    .dataframe tbody tr th {\n",
       "        vertical-align: top;\n",
       "    }\n",
       "\n",
       "    .dataframe thead th {\n",
       "        text-align: right;\n",
       "    }\n",
       "</style>\n",
       "<table border=\"1\" class=\"dataframe\">\n",
       "  <thead>\n",
       "    <tr style=\"text-align: right;\">\n",
       "      <th></th>\n",
       "      <th>Number 1</th>\n",
       "      <th>Number2</th>\n",
       "    </tr>\n",
       "  </thead>\n",
       "  <tbody>\n",
       "    <tr>\n",
       "      <th>0</th>\n",
       "      <td>1</td>\n",
       "      <td>4</td>\n",
       "    </tr>\n",
       "    <tr>\n",
       "      <th>1</th>\n",
       "      <td>2</td>\n",
       "      <td>5</td>\n",
       "    </tr>\n",
       "    <tr>\n",
       "      <th>2</th>\n",
       "      <td>3</td>\n",
       "      <td>6</td>\n",
       "    </tr>\n",
       "  </tbody>\n",
       "</table>\n",
       "</div>"
      ],
      "text/plain": [
       "   Number 1  Number2\n",
       "0         1        4\n",
       "1         2        5\n",
       "2         3        6"
      ]
     },
     "execution_count": 19,
     "metadata": {},
     "output_type": "execute_result"
    }
   ],
   "source": [
    "import numpy as np\n",
    "\n",
    "data = np.array([\n",
    "    [1, 4],\n",
    "    [2, 5],\n",
    "    [3, 6]\n",
    "])\n",
    "df = pd.DataFrame(data, columns=[\"Number 1\", \"Number2\"])\n",
    "df"
   ]
  },
  {
   "cell_type": "markdown",
   "id": "0bd9b0ed",
   "metadata": {},
   "source": [
    "## Series"
   ]
  },
  {
   "cell_type": "code",
   "execution_count": 13,
   "id": "e198a88f",
   "metadata": {},
   "outputs": [
    {
     "name": "stdout",
     "output_type": "stream",
     "text": [
      "<class 'pandas.core.series.Series'>\n"
     ]
    }
   ],
   "source": [
    "scores = students[\"Nilai\"]\n",
    "print(type(scores))"
   ]
  },
  {
   "cell_type": "code",
   "execution_count": 14,
   "id": "93cf5c23",
   "metadata": {},
   "outputs": [
    {
     "data": {
      "text/plain": [
       "count      3.0\n",
       "mean      90.0\n",
       "std       10.0\n",
       "min       80.0\n",
       "25%       85.0\n",
       "50%       90.0\n",
       "75%       95.0\n",
       "max      100.0\n",
       "Name: Nilai, dtype: float64"
      ]
     },
     "execution_count": 14,
     "metadata": {},
     "output_type": "execute_result"
    }
   ],
   "source": [
    "scores.describe()"
   ]
  },
  {
   "cell_type": "markdown",
   "id": "4679fd24",
   "metadata": {},
   "source": [
    "## Case 0 : NSFG"
   ]
  },
  {
   "cell_type": "code",
   "execution_count": 20,
   "id": "5d827bca",
   "metadata": {},
   "outputs": [
    {
     "name": "stdout",
     "output_type": "stream",
     "text": [
      "<class 'pandas.core.frame.DataFrame'>\n"
     ]
    }
   ],
   "source": [
    "from statadict import parse_stata_dict\n",
    "\n",
    "data_file = \"meet04/2015_2017_FemPregData.dat\"\n",
    "dict_file = \"meet04/2015_2017_FemPregSetup.dct\"\n",
    "\n",
    "stata_dict = parse_stata_dict(dict_file)\n",
    "\n",
    "nsfg = pd.read_fwf(data_file,\n",
    "                  names=stata_dict.names,\n",
    "                  colspecs=stata_dict.colspecs)\n",
    "print(type(nsfg))\n",
    "nsfg.head()\n",
    "\n",
    "#series\n",
    "pounds = nsfg[\"BIRTHWGT_LB1\"]"
   ]
  },
  {
   "cell_type": "code",
   "execution_count": 21,
   "id": "4af8134d",
   "metadata": {},
   "outputs": [
    {
     "data": {
      "text/plain": [
       "count    6599.000000\n",
       "mean        6.754357\n",
       "std         1.383268\n",
       "min         0.000000\n",
       "25%         6.000000\n",
       "50%         7.000000\n",
       "75%         8.000000\n",
       "max        14.000000\n",
       "Name: BIRTHWGT_LB1, dtype: float64"
      ]
     },
     "execution_count": 21,
     "metadata": {},
     "output_type": "execute_result"
    }
   ],
   "source": [
    "import numpy as np\n",
    "pounds_clean = pounds.replace([98, 99], np.nan)\n",
    "\n",
    "pounds_clean.describe()"
   ]
  },
  {
   "cell_type": "code",
   "execution_count": 22,
   "id": "7f75429b",
   "metadata": {},
   "outputs": [
    {
     "data": {
      "text/plain": [
       "count    6599.000000\n",
       "mean        3.063722\n",
       "std         0.627439\n",
       "min         0.000000\n",
       "25%         2.721552\n",
       "50%         3.175144\n",
       "75%         3.628736\n",
       "max         6.350288\n",
       "Name: BIRTHWGT_LB1, dtype: float64"
      ]
     },
     "execution_count": 22,
     "metadata": {},
     "output_type": "execute_result"
    }
   ],
   "source": [
    "weight_p = pounds_clean * 0.453592\n",
    "weight_p.describe()"
   ]
  },
  {
   "cell_type": "code",
   "execution_count": 23,
   "id": "a07000d0",
   "metadata": {},
   "outputs": [
    {
     "data": {
      "text/plain": [
       "count    6540.000000\n",
       "mean        0.192508\n",
       "std         0.128489\n",
       "min         0.000000\n",
       "25%         0.085048\n",
       "50%         0.198446\n",
       "75%         0.311844\n",
       "max         0.425242\n",
       "Name: BIRTHWGT_OZ1, dtype: float64"
      ]
     },
     "execution_count": 23,
     "metadata": {},
     "output_type": "execute_result"
    }
   ],
   "source": [
    "ounces = nsfg[\"BIRTHWGT_OZ1\"]\n",
    "ounces_clean = ounces.replace([98, 99], np.nan)\n",
    "weight_o = ounces_clean * 0.0283495\n",
    "weight_o.describe()"
   ]
  },
  {
   "cell_type": "code",
   "execution_count": 24,
   "id": "2c03abea",
   "metadata": {},
   "outputs": [
    {
     "data": {
      "text/plain": [
       "BIRTHWGT_LB1\n",
       "0.000000       2\n",
       "0.453592      28\n",
       "0.907184      46\n",
       "1.360776      76\n",
       "1.814368     179\n",
       "2.267960     570\n",
       "2.721552    1644\n",
       "3.175144    2268\n",
       "3.628736    1287\n",
       "4.082328     396\n",
       "4.535920      82\n",
       "4.989512      17\n",
       "5.443104       2\n",
       "5.896696       1\n",
       "6.350288       1\n",
       "Name: count, dtype: int64"
      ]
     },
     "execution_count": 24,
     "metadata": {},
     "output_type": "execute_result"
    }
   ],
   "source": [
    "weight_p.value_counts().sort_index()"
   ]
  },
  {
   "cell_type": "code",
   "execution_count": 28,
   "id": "d460bd3b",
   "metadata": {},
   "outputs": [
    {
     "data": {
      "text/plain": [
       "BIRTHWGT_OZ1\n",
       "0.000000    770\n",
       "0.028349    294\n",
       "0.056699    430\n",
       "0.085048    382\n",
       "0.113398    390\n",
       "0.141747    382\n",
       "0.170097    549\n",
       "0.198446    376\n",
       "0.226796    545\n",
       "0.255146    457\n",
       "0.283495    327\n",
       "0.311844    400\n",
       "0.340194    389\n",
       "0.368544    275\n",
       "0.396893    282\n",
       "0.425242    292\n",
       "Name: count, dtype: int64"
      ]
     },
     "execution_count": 28,
     "metadata": {},
     "output_type": "execute_result"
    }
   ],
   "source": [
    "weight_o.value_counts().sort_index()"
   ]
  },
  {
   "cell_type": "code",
   "execution_count": 26,
   "id": "44c7a5d2",
   "metadata": {},
   "outputs": [
    {
     "data": {
      "text/plain": [
       "3.256889393119266"
      ]
     },
     "execution_count": 26,
     "metadata": {},
     "output_type": "execute_result"
    }
   ],
   "source": [
    "birth_weight = weight_p + weight_o\n",
    "birth_weight.mean()"
   ]
  },
  {
   "cell_type": "code",
   "execution_count": 29,
   "id": "d1da25ee",
   "metadata": {},
   "outputs": [
    {
     "data": {
      "text/plain": [
       "Text(0.5, 1.0, 'Distribution of U.S. birth weight')"
      ]
     },
     "execution_count": 29,
     "metadata": {},
     "output_type": "execute_result"
    },
    {
     "data": {
      "image/png": "[encoded data removed]",
      "text/plain": [
       "<Figure size 640x480 with 1 Axes>"
      ]
     },
     "metadata": {},
     "output_type": "display_data"
    }
   ],
   "source": [
    "import matplotlib.pyplot as plt\n",
    "birth_weight.hist(bins=30)\n",
    "plt.xlabel(\"Birth weight in kilograms\")\n",
    "plt.ylabel(\"Number of live births\")\n",
    "plt.title(\"Distribution of U.S. birth weight\")\n",
    "# plt.show()"
   ]
  },
  {
   "cell_type": "code",
   "execution_count": null,
   "id": "5c0d7d31",
   "metadata": {},
   "outputs": [],
   "source": []
  }
 ],
 "metadata": {
  "kernelspec": {
   "display_name": "Python 3 (ipykernel)",
   "language": "python",
   "name": "python3"
  },
  "language_info": {
   "codemirror_mode": {
    "name": "ipython",
    "version": 3
   },
   "file_extension": ".py",
   "mimetype": "text/x-python",
   "name": "python",
   "nbconvert_exporter": "python",
   "pygments_lexer": "ipython3",
   "version": "3.11.4"
  }
 },
 "nbformat": 4,
 "nbformat_minor": 5
}
