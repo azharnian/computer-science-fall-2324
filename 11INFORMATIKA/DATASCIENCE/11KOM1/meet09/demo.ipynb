{
 "cells": [
  {
   "cell_type": "code",
   "execution_count": 1,
   "id": "96af8b76",
   "metadata": {},
   "outputs": [],
   "source": [
    "import sqlite3\n",
    "import pandas as pd\n",
    "from employee import Employee"
   ]
  },
  {
   "cell_type": "code",
   "execution_count": 2,
   "id": "12e706c9",
   "metadata": {},
   "outputs": [],
   "source": [
    "conn = sqlite3.connect('data.db')\n",
    "c = conn.cursor()"
   ]
  },
  {
   "cell_type": "code",
   "execution_count": 3,
   "id": "f5c6c0aa",
   "metadata": {},
   "outputs": [],
   "source": [
    "c.execute(\"\"\"\n",
    "    CREATE TABLE IF NOT EXISTS employees(\n",
    "        id INTEGER PRIMARY KEY AUTOINCREMENT,\n",
    "        first TEXT,\n",
    "        last TEXT,\n",
    "        pay INTEGER\n",
    "    );\n",
    "\"\"\")\n",
    "conn.commit()\n",
    "# conn.close()"
   ]
  },
  {
   "cell_type": "code",
   "execution_count": 5,
   "id": "0fa62c1f",
   "metadata": {},
   "outputs": [],
   "source": [
    "emp_1 = Employee('John', 'Doe', '3000')\n",
    "\n",
    "c.execute(\"\"\"\n",
    "    INSERT INTO employees (first, last, pay)\n",
    "    VALUES (?, ?, ?)\n",
    "\n",
    "\"\"\", (emp_1.first, emp_1.last, emp_1.pay))\n",
    "conn.commit()"
   ]
  },
  {
   "cell_type": "code",
   "execution_count": 7,
   "id": "c0aedb43",
   "metadata": {},
   "outputs": [],
   "source": [
    "emp_2 = Employee('Jane', 'Doe', '3000')\n",
    "\n",
    "c.execute(\"\"\"\n",
    "    INSERT INTO employees (first, last, pay)\n",
    "    VALUES (?, ?, ?)\n",
    "\n",
    "\"\"\", (emp_2.first, emp_2.last, emp_2.pay))\n",
    "conn.commit()"
   ]
  },
  {
   "cell_type": "code",
   "execution_count": 9,
   "id": "dc687e75",
   "metadata": {},
   "outputs": [
    {
     "name": "stdout",
     "output_type": "stream",
     "text": [
      "   id first last   pay\n",
      "0   1  John  Doe  3000\n",
      "1   2  John  Doe  3000\n",
      "2   3  Jane  Doe  3000\n"
     ]
    }
   ],
   "source": [
    "emps = c.execute(\"\"\"\n",
    "    SELECT * FROM employees\n",
    "\"\"\")\n",
    "df = pd.DataFrame(emps)\n",
    "df.columns = [\"id\", \"first\", \"last\", \"pay\"]\n",
    "print(df)"
   ]
  },
  {
   "cell_type": "code",
   "execution_count": 12,
   "id": "d21260f1",
   "metadata": {},
   "outputs": [],
   "source": [
    "def insert_emp(emp):\n",
    "    with conn:\n",
    "        c.execute(\"\"\"\n",
    "            INSERT INTO employees (first, last, pay)\n",
    "            VALUES (?, ?, ?)\n",
    "\n",
    "        \"\"\", (emp.first, emp.last, emp.pay))"
   ]
  },
  {
   "cell_type": "code",
   "execution_count": 13,
   "id": "e4d2a8b4",
   "metadata": {},
   "outputs": [],
   "source": [
    "emp = Employee('Budi', 'Sadikin', '10_000')\n",
    "insert_emp(emp)"
   ]
  },
  {
   "cell_type": "code",
   "execution_count": null,
   "id": "d5178b42",
   "metadata": {},
   "outputs": [],
   "source": []
  }
 ],
 "metadata": {
  "kernelspec": {
   "display_name": "Python 3 (ipykernel)",
   "language": "python",
   "name": "python3"
  },
  "language_info": {
   "codemirror_mode": {
    "name": "ipython",
    "version": 3
   },
   "file_extension": ".py",
   "mimetype": "text/x-python",
   "name": "python",
   "nbconvert_exporter": "python",
   "pygments_lexer": "ipython3",
   "version": "3.11.4"
  }
 },
 "nbformat": 4,
 "nbformat_minor": 5
}
